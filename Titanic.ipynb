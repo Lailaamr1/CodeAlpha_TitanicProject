{
  "nbformat": 4,
  "nbformat_minor": 0,
  "metadata": {
    "colab": {
      "provenance": []
    },
    "kernelspec": {
      "name": "python3",
      "display_name": "Python 3"
    },
    "language_info": {
      "name": "python"
    }
  },
  "cells": [
    {
      "cell_type": "code",
      "execution_count": 123,
      "metadata": {
        "id": "JdEWePgImkP-"
      },
      "outputs": [],
      "source": [
        "import pandas as pd\n",
        "\n",
        "# Example: If the encoding is 'utf-8'\n",
        "df = pd.read_csv('/content/train.csv')"
      ]
    },
    {
      "cell_type": "code",
      "source": [
        "df.head()"
      ],
      "metadata": {
        "colab": {
          "base_uri": "https://localhost:8080/",
          "height": 206
        },
        "id": "QmAw5NJgoVKY",
        "outputId": "879fa880-0775-443e-fae0-492c8245d2a8"
      },
      "execution_count": 124,
      "outputs": [
        {
          "output_type": "execute_result",
          "data": {
            "text/plain": [
              "   PassengerId  Survived  Pclass  \\\n",
              "0            1         0       3   \n",
              "1            2         1       1   \n",
              "2            3         1       3   \n",
              "3            4         1       1   \n",
              "4            5         0       3   \n",
              "\n",
              "                                                Name     Sex   Age  SibSp  \\\n",
              "0                            Braund, Mr. Owen Harris    male  22.0      1   \n",
              "1  Cumings, Mrs. John Bradley (Florence Briggs Th...  female  38.0      1   \n",
              "2                             Heikkinen, Miss. Laina  female  26.0      0   \n",
              "3       Futrelle, Mrs. Jacques Heath (Lily May Peel)  female  35.0      1   \n",
              "4                           Allen, Mr. William Henry    male  35.0      0   \n",
              "\n",
              "   Parch            Ticket     Fare Cabin Embarked  \n",
              "0      0         A/5 21171   7.2500   NaN        S  \n",
              "1      0          PC 17599  71.2833   C85        C  \n",
              "2      0  STON/O2. 3101282   7.9250   NaN        S  \n",
              "3      0            113803  53.1000  C123        S  \n",
              "4      0            373450   8.0500   NaN        S  "
            ],
            "text/html": [
              "\n",
              "  <div id=\"df-09da4b41-aa56-4b12-b814-8d1bb5bb2455\" class=\"colab-df-container\">\n",
              "    <div>\n",
              "<style scoped>\n",
              "    .dataframe tbody tr th:only-of-type {\n",
              "        vertical-align: middle;\n",
              "    }\n",
              "\n",
              "    .dataframe tbody tr th {\n",
              "        vertical-align: top;\n",
              "    }\n",
              "\n",
              "    .dataframe thead th {\n",
              "        text-align: right;\n",
              "    }\n",
              "</style>\n",
              "<table border=\"1\" class=\"dataframe\">\n",
              "  <thead>\n",
              "    <tr style=\"text-align: right;\">\n",
              "      <th></th>\n",
              "      <th>PassengerId</th>\n",
              "      <th>Survived</th>\n",
              "      <th>Pclass</th>\n",
              "      <th>Name</th>\n",
              "      <th>Sex</th>\n",
              "      <th>Age</th>\n",
              "      <th>SibSp</th>\n",
              "      <th>Parch</th>\n",
              "      <th>Ticket</th>\n",
              "      <th>Fare</th>\n",
              "      <th>Cabin</th>\n",
              "      <th>Embarked</th>\n",
              "    </tr>\n",
              "  </thead>\n",
              "  <tbody>\n",
              "    <tr>\n",
              "      <th>0</th>\n",
              "      <td>1</td>\n",
              "      <td>0</td>\n",
              "      <td>3</td>\n",
              "      <td>Braund, Mr. Owen Harris</td>\n",
              "      <td>male</td>\n",
              "      <td>22.0</td>\n",
              "      <td>1</td>\n",
              "      <td>0</td>\n",
              "      <td>A/5 21171</td>\n",
              "      <td>7.2500</td>\n",
              "      <td>NaN</td>\n",
              "      <td>S</td>\n",
              "    </tr>\n",
              "    <tr>\n",
              "      <th>1</th>\n",
              "      <td>2</td>\n",
              "      <td>1</td>\n",
              "      <td>1</td>\n",
              "      <td>Cumings, Mrs. John Bradley (Florence Briggs Th...</td>\n",
              "      <td>female</td>\n",
              "      <td>38.0</td>\n",
              "      <td>1</td>\n",
              "      <td>0</td>\n",
              "      <td>PC 17599</td>\n",
              "      <td>71.2833</td>\n",
              "      <td>C85</td>\n",
              "      <td>C</td>\n",
              "    </tr>\n",
              "    <tr>\n",
              "      <th>2</th>\n",
              "      <td>3</td>\n",
              "      <td>1</td>\n",
              "      <td>3</td>\n",
              "      <td>Heikkinen, Miss. Laina</td>\n",
              "      <td>female</td>\n",
              "      <td>26.0</td>\n",
              "      <td>0</td>\n",
              "      <td>0</td>\n",
              "      <td>STON/O2. 3101282</td>\n",
              "      <td>7.9250</td>\n",
              "      <td>NaN</td>\n",
              "      <td>S</td>\n",
              "    </tr>\n",
              "    <tr>\n",
              "      <th>3</th>\n",
              "      <td>4</td>\n",
              "      <td>1</td>\n",
              "      <td>1</td>\n",
              "      <td>Futrelle, Mrs. Jacques Heath (Lily May Peel)</td>\n",
              "      <td>female</td>\n",
              "      <td>35.0</td>\n",
              "      <td>1</td>\n",
              "      <td>0</td>\n",
              "      <td>113803</td>\n",
              "      <td>53.1000</td>\n",
              "      <td>C123</td>\n",
              "      <td>S</td>\n",
              "    </tr>\n",
              "    <tr>\n",
              "      <th>4</th>\n",
              "      <td>5</td>\n",
              "      <td>0</td>\n",
              "      <td>3</td>\n",
              "      <td>Allen, Mr. William Henry</td>\n",
              "      <td>male</td>\n",
              "      <td>35.0</td>\n",
              "      <td>0</td>\n",
              "      <td>0</td>\n",
              "      <td>373450</td>\n",
              "      <td>8.0500</td>\n",
              "      <td>NaN</td>\n",
              "      <td>S</td>\n",
              "    </tr>\n",
              "  </tbody>\n",
              "</table>\n",
              "</div>\n",
              "    <div class=\"colab-df-buttons\">\n",
              "\n",
              "  <div class=\"colab-df-container\">\n",
              "    <button class=\"colab-df-convert\" onclick=\"convertToInteractive('df-09da4b41-aa56-4b12-b814-8d1bb5bb2455')\"\n",
              "            title=\"Convert this dataframe to an interactive table.\"\n",
              "            style=\"display:none;\">\n",
              "\n",
              "  <svg xmlns=\"http://www.w3.org/2000/svg\" height=\"24px\" viewBox=\"0 -960 960 960\">\n",
              "    <path d=\"M120-120v-720h720v720H120Zm60-500h600v-160H180v160Zm220 220h160v-160H400v160Zm0 220h160v-160H400v160ZM180-400h160v-160H180v160Zm440 0h160v-160H620v160ZM180-180h160v-160H180v160Zm440 0h160v-160H620v160Z\"/>\n",
              "  </svg>\n",
              "    </button>\n",
              "\n",
              "  <style>\n",
              "    .colab-df-container {\n",
              "      display:flex;\n",
              "      gap: 12px;\n",
              "    }\n",
              "\n",
              "    .colab-df-convert {\n",
              "      background-color: #E8F0FE;\n",
              "      border: none;\n",
              "      border-radius: 50%;\n",
              "      cursor: pointer;\n",
              "      display: none;\n",
              "      fill: #1967D2;\n",
              "      height: 32px;\n",
              "      padding: 0 0 0 0;\n",
              "      width: 32px;\n",
              "    }\n",
              "\n",
              "    .colab-df-convert:hover {\n",
              "      background-color: #E2EBFA;\n",
              "      box-shadow: 0px 1px 2px rgba(60, 64, 67, 0.3), 0px 1px 3px 1px rgba(60, 64, 67, 0.15);\n",
              "      fill: #174EA6;\n",
              "    }\n",
              "\n",
              "    .colab-df-buttons div {\n",
              "      margin-bottom: 4px;\n",
              "    }\n",
              "\n",
              "    [theme=dark] .colab-df-convert {\n",
              "      background-color: #3B4455;\n",
              "      fill: #D2E3FC;\n",
              "    }\n",
              "\n",
              "    [theme=dark] .colab-df-convert:hover {\n",
              "      background-color: #434B5C;\n",
              "      box-shadow: 0px 1px 3px 1px rgba(0, 0, 0, 0.15);\n",
              "      filter: drop-shadow(0px 1px 2px rgba(0, 0, 0, 0.3));\n",
              "      fill: #FFFFFF;\n",
              "    }\n",
              "  </style>\n",
              "\n",
              "    <script>\n",
              "      const buttonEl =\n",
              "        document.querySelector('#df-09da4b41-aa56-4b12-b814-8d1bb5bb2455 button.colab-df-convert');\n",
              "      buttonEl.style.display =\n",
              "        google.colab.kernel.accessAllowed ? 'block' : 'none';\n",
              "\n",
              "      async function convertToInteractive(key) {\n",
              "        const element = document.querySelector('#df-09da4b41-aa56-4b12-b814-8d1bb5bb2455');\n",
              "        const dataTable =\n",
              "          await google.colab.kernel.invokeFunction('convertToInteractive',\n",
              "                                                    [key], {});\n",
              "        if (!dataTable) return;\n",
              "\n",
              "        const docLinkHtml = 'Like what you see? Visit the ' +\n",
              "          '<a target=\"_blank\" href=https://colab.research.google.com/notebooks/data_table.ipynb>data table notebook</a>'\n",
              "          + ' to learn more about interactive tables.';\n",
              "        element.innerHTML = '';\n",
              "        dataTable['output_type'] = 'display_data';\n",
              "        await google.colab.output.renderOutput(dataTable, element);\n",
              "        const docLink = document.createElement('div');\n",
              "        docLink.innerHTML = docLinkHtml;\n",
              "        element.appendChild(docLink);\n",
              "      }\n",
              "    </script>\n",
              "  </div>\n",
              "\n",
              "\n",
              "<div id=\"df-429ce81c-55ac-4ab7-aab6-b38a52c65fec\">\n",
              "  <button class=\"colab-df-quickchart\" onclick=\"quickchart('df-429ce81c-55ac-4ab7-aab6-b38a52c65fec')\"\n",
              "            title=\"Suggest charts\"\n",
              "            style=\"display:none;\">\n",
              "\n",
              "<svg xmlns=\"http://www.w3.org/2000/svg\" height=\"24px\"viewBox=\"0 0 24 24\"\n",
              "     width=\"24px\">\n",
              "    <g>\n",
              "        <path d=\"M19 3H5c-1.1 0-2 .9-2 2v14c0 1.1.9 2 2 2h14c1.1 0 2-.9 2-2V5c0-1.1-.9-2-2-2zM9 17H7v-7h2v7zm4 0h-2V7h2v10zm4 0h-2v-4h2v4z\"/>\n",
              "    </g>\n",
              "</svg>\n",
              "  </button>\n",
              "\n",
              "<style>\n",
              "  .colab-df-quickchart {\n",
              "      --bg-color: #E8F0FE;\n",
              "      --fill-color: #1967D2;\n",
              "      --hover-bg-color: #E2EBFA;\n",
              "      --hover-fill-color: #174EA6;\n",
              "      --disabled-fill-color: #AAA;\n",
              "      --disabled-bg-color: #DDD;\n",
              "  }\n",
              "\n",
              "  [theme=dark] .colab-df-quickchart {\n",
              "      --bg-color: #3B4455;\n",
              "      --fill-color: #D2E3FC;\n",
              "      --hover-bg-color: #434B5C;\n",
              "      --hover-fill-color: #FFFFFF;\n",
              "      --disabled-bg-color: #3B4455;\n",
              "      --disabled-fill-color: #666;\n",
              "  }\n",
              "\n",
              "  .colab-df-quickchart {\n",
              "    background-color: var(--bg-color);\n",
              "    border: none;\n",
              "    border-radius: 50%;\n",
              "    cursor: pointer;\n",
              "    display: none;\n",
              "    fill: var(--fill-color);\n",
              "    height: 32px;\n",
              "    padding: 0;\n",
              "    width: 32px;\n",
              "  }\n",
              "\n",
              "  .colab-df-quickchart:hover {\n",
              "    background-color: var(--hover-bg-color);\n",
              "    box-shadow: 0 1px 2px rgba(60, 64, 67, 0.3), 0 1px 3px 1px rgba(60, 64, 67, 0.15);\n",
              "    fill: var(--button-hover-fill-color);\n",
              "  }\n",
              "\n",
              "  .colab-df-quickchart-complete:disabled,\n",
              "  .colab-df-quickchart-complete:disabled:hover {\n",
              "    background-color: var(--disabled-bg-color);\n",
              "    fill: var(--disabled-fill-color);\n",
              "    box-shadow: none;\n",
              "  }\n",
              "\n",
              "  .colab-df-spinner {\n",
              "    border: 2px solid var(--fill-color);\n",
              "    border-color: transparent;\n",
              "    border-bottom-color: var(--fill-color);\n",
              "    animation:\n",
              "      spin 1s steps(1) infinite;\n",
              "  }\n",
              "\n",
              "  @keyframes spin {\n",
              "    0% {\n",
              "      border-color: transparent;\n",
              "      border-bottom-color: var(--fill-color);\n",
              "      border-left-color: var(--fill-color);\n",
              "    }\n",
              "    20% {\n",
              "      border-color: transparent;\n",
              "      border-left-color: var(--fill-color);\n",
              "      border-top-color: var(--fill-color);\n",
              "    }\n",
              "    30% {\n",
              "      border-color: transparent;\n",
              "      border-left-color: var(--fill-color);\n",
              "      border-top-color: var(--fill-color);\n",
              "      border-right-color: var(--fill-color);\n",
              "    }\n",
              "    40% {\n",
              "      border-color: transparent;\n",
              "      border-right-color: var(--fill-color);\n",
              "      border-top-color: var(--fill-color);\n",
              "    }\n",
              "    60% {\n",
              "      border-color: transparent;\n",
              "      border-right-color: var(--fill-color);\n",
              "    }\n",
              "    80% {\n",
              "      border-color: transparent;\n",
              "      border-right-color: var(--fill-color);\n",
              "      border-bottom-color: var(--fill-color);\n",
              "    }\n",
              "    90% {\n",
              "      border-color: transparent;\n",
              "      border-bottom-color: var(--fill-color);\n",
              "    }\n",
              "  }\n",
              "</style>\n",
              "\n",
              "  <script>\n",
              "    async function quickchart(key) {\n",
              "      const quickchartButtonEl =\n",
              "        document.querySelector('#' + key + ' button');\n",
              "      quickchartButtonEl.disabled = true;  // To prevent multiple clicks.\n",
              "      quickchartButtonEl.classList.add('colab-df-spinner');\n",
              "      try {\n",
              "        const charts = await google.colab.kernel.invokeFunction(\n",
              "            'suggestCharts', [key], {});\n",
              "      } catch (error) {\n",
              "        console.error('Error during call to suggestCharts:', error);\n",
              "      }\n",
              "      quickchartButtonEl.classList.remove('colab-df-spinner');\n",
              "      quickchartButtonEl.classList.add('colab-df-quickchart-complete');\n",
              "    }\n",
              "    (() => {\n",
              "      let quickchartButtonEl =\n",
              "        document.querySelector('#df-429ce81c-55ac-4ab7-aab6-b38a52c65fec button');\n",
              "      quickchartButtonEl.style.display =\n",
              "        google.colab.kernel.accessAllowed ? 'block' : 'none';\n",
              "    })();\n",
              "  </script>\n",
              "</div>\n",
              "\n",
              "    </div>\n",
              "  </div>\n"
            ]
          },
          "metadata": {},
          "execution_count": 124
        }
      ]
    },
    {
      "cell_type": "markdown",
      "source": [
        "**Data Inspection and Data Cleaning**"
      ],
      "metadata": {
        "id": "qi7MtDMOoa16"
      }
    },
    {
      "cell_type": "code",
      "source": [
        "import pandas as pd\n",
        "\n",
        "def check_unique_values(df):\n",
        "    for column in df.columns:\n",
        "        if df[column].dtype == 'object':  # Checking if the column is categorical\n",
        "            unique_values = df[column].unique()\n",
        "            print(f\"Unique values for '{column}':\")\n",
        "            print(unique_values)\n",
        "            print('-' * 40)\n",
        "check_unique_values(df)"
      ],
      "metadata": {
        "colab": {
          "base_uri": "https://localhost:8080/"
        },
        "id": "menQ3ZCeoVRi",
        "outputId": "1294d886-9bb1-4049-99ba-4ba6e1e9fa22"
      },
      "execution_count": 125,
      "outputs": [
        {
          "output_type": "stream",
          "name": "stdout",
          "text": [
            "Unique values for 'Name':\n",
            "['Braund, Mr. Owen Harris'\n",
            " 'Cumings, Mrs. John Bradley (Florence Briggs Thayer)'\n",
            " 'Heikkinen, Miss. Laina' 'Futrelle, Mrs. Jacques Heath (Lily May Peel)'\n",
            " 'Allen, Mr. William Henry' 'Moran, Mr. James' 'McCarthy, Mr. Timothy J'\n",
            " 'Palsson, Master. Gosta Leonard'\n",
            " 'Johnson, Mrs. Oscar W (Elisabeth Vilhelmina Berg)'\n",
            " 'Nasser, Mrs. Nicholas (Adele Achem)' 'Sandstrom, Miss. Marguerite Rut'\n",
            " 'Bonnell, Miss. Elizabeth' 'Saundercock, Mr. William Henry'\n",
            " 'Andersson, Mr. Anders Johan' 'Vestrom, Miss. Hulda Amanda Adolfina'\n",
            " 'Hewlett, Mrs. (Mary D Kingcome) ' 'Rice, Master. Eugene'\n",
            " 'Williams, Mr. Charles Eugene'\n",
            " 'Vander Planke, Mrs. Julius (Emelia Maria Vandemoortele)'\n",
            " 'Masselmani, Mrs. Fatima' 'Fynney, Mr. Joseph J' 'Beesley, Mr. Lawrence'\n",
            " 'McGowan, Miss. Anna \"Annie\"' 'Sloper, Mr. William Thompson'\n",
            " 'Palsson, Miss. Torborg Danira'\n",
            " 'Asplund, Mrs. Carl Oscar (Selma Augusta Emilia Johansson)'\n",
            " 'Emir, Mr. Farred Chehab' 'Fortune, Mr. Charles Alexander'\n",
            " 'O\\'Dwyer, Miss. Ellen \"Nellie\"' 'Todoroff, Mr. Lalio'\n",
            " 'Uruchurtu, Don. Manuel E'\n",
            " 'Spencer, Mrs. William Augustus (Marie Eugenie)'\n",
            " 'Glynn, Miss. Mary Agatha' 'Wheadon, Mr. Edward H'\n",
            " 'Meyer, Mr. Edgar Joseph' 'Holverson, Mr. Alexander Oskar'\n",
            " 'Mamee, Mr. Hanna' 'Cann, Mr. Ernest Charles'\n",
            " 'Vander Planke, Miss. Augusta Maria' 'Nicola-Yarred, Miss. Jamila'\n",
            " 'Ahlin, Mrs. Johan (Johanna Persdotter Larsson)'\n",
            " 'Turpin, Mrs. William John Robert (Dorothy Ann Wonnacott)'\n",
            " 'Kraeff, Mr. Theodor' 'Laroche, Miss. Simonne Marie Anne Andree'\n",
            " 'Devaney, Miss. Margaret Delia' 'Rogers, Mr. William John'\n",
            " 'Lennon, Mr. Denis' \"O'Driscoll, Miss. Bridget\" 'Samaan, Mr. Youssef'\n",
            " 'Arnold-Franchi, Mrs. Josef (Josefine Franchi)'\n",
            " 'Panula, Master. Juha Niilo' 'Nosworthy, Mr. Richard Cater'\n",
            " 'Harper, Mrs. Henry Sleeper (Myna Haxtun)'\n",
            " 'Faunthorpe, Mrs. Lizzie (Elizabeth Anne Wilkinson)'\n",
            " 'Ostby, Mr. Engelhart Cornelius' 'Woolner, Mr. Hugh' 'Rugg, Miss. Emily'\n",
            " 'Novel, Mr. Mansouer' 'West, Miss. Constance Mirium'\n",
            " 'Goodwin, Master. William Frederick' 'Sirayanian, Mr. Orsen'\n",
            " 'Icard, Miss. Amelie' 'Harris, Mr. Henry Birkhardt'\n",
            " 'Skoog, Master. Harald' 'Stewart, Mr. Albert A'\n",
            " 'Moubarek, Master. Gerios' 'Nye, Mrs. (Elizabeth Ramell)'\n",
            " 'Crease, Mr. Ernest James' 'Andersson, Miss. Erna Alexandra'\n",
            " 'Kink, Mr. Vincenz' 'Jenkin, Mr. Stephen Curnow'\n",
            " 'Goodwin, Miss. Lillian Amy' 'Hood, Mr. Ambrose Jr'\n",
            " 'Chronopoulos, Mr. Apostolos' 'Bing, Mr. Lee' 'Moen, Mr. Sigurd Hansen'\n",
            " 'Staneff, Mr. Ivan' 'Moutal, Mr. Rahamin Haim'\n",
            " 'Caldwell, Master. Alden Gates' 'Dowdell, Miss. Elizabeth'\n",
            " 'Waelens, Mr. Achille' 'Sheerlinck, Mr. Jan Baptist'\n",
            " 'McDermott, Miss. Brigdet Delia' 'Carrau, Mr. Francisco M'\n",
            " 'Ilett, Miss. Bertha'\n",
            " 'Backstrom, Mrs. Karl Alfred (Maria Mathilda Gustafsson)'\n",
            " 'Ford, Mr. William Neal' 'Slocovski, Mr. Selman Francis'\n",
            " 'Fortune, Miss. Mabel Helen' 'Celotti, Mr. Francesco'\n",
            " 'Christmann, Mr. Emil' 'Andreasson, Mr. Paul Edvin'\n",
            " 'Chaffee, Mr. Herbert Fuller' 'Dean, Mr. Bertram Frank'\n",
            " 'Coxon, Mr. Daniel' 'Shorney, Mr. Charles Joseph'\n",
            " 'Goldschmidt, Mr. George B' 'Greenfield, Mr. William Bertram'\n",
            " 'Doling, Mrs. John T (Ada Julia Bone)' 'Kantor, Mr. Sinai'\n",
            " 'Petranec, Miss. Matilda' 'Petroff, Mr. Pastcho (\"Pentcho\")'\n",
            " 'White, Mr. Richard Frasar' 'Johansson, Mr. Gustaf Joel'\n",
            " 'Gustafsson, Mr. Anders Vilhelm' 'Mionoff, Mr. Stoytcho'\n",
            " 'Salkjelsvik, Miss. Anna Kristine' 'Moss, Mr. Albert Johan'\n",
            " 'Rekic, Mr. Tido' 'Moran, Miss. Bertha' 'Porter, Mr. Walter Chamberlain'\n",
            " 'Zabour, Miss. Hileni' 'Barton, Mr. David John' 'Jussila, Miss. Katriina'\n",
            " 'Attalah, Miss. Malake' 'Pekoniemi, Mr. Edvard' 'Connors, Mr. Patrick'\n",
            " 'Turpin, Mr. William John Robert' 'Baxter, Mr. Quigg Edmond'\n",
            " 'Andersson, Miss. Ellis Anna Maria' 'Hickman, Mr. Stanley George'\n",
            " 'Moore, Mr. Leonard Charles' 'Nasser, Mr. Nicholas' 'Webber, Miss. Susan'\n",
            " 'White, Mr. Percival Wayland' 'Nicola-Yarred, Master. Elias'\n",
            " 'McMahon, Mr. Martin' 'Madsen, Mr. Fridtjof Arne' 'Peter, Miss. Anna'\n",
            " 'Ekstrom, Mr. Johan' 'Drazenoic, Mr. Jozef'\n",
            " 'Coelho, Mr. Domingos Fernandeo'\n",
            " 'Robins, Mrs. Alexander A (Grace Charity Laury)'\n",
            " 'Weisz, Mrs. Leopold (Mathilde Francoise Pede)'\n",
            " 'Sobey, Mr. Samuel James Hayden' 'Richard, Mr. Emile'\n",
            " 'Newsom, Miss. Helen Monypeny' 'Futrelle, Mr. Jacques Heath'\n",
            " 'Osen, Mr. Olaf Elon' 'Giglio, Mr. Victor'\n",
            " 'Boulos, Mrs. Joseph (Sultana)' 'Nysten, Miss. Anna Sofia'\n",
            " 'Hakkarainen, Mrs. Pekka Pietari (Elin Matilda Dolck)'\n",
            " 'Burke, Mr. Jeremiah' 'Andrew, Mr. Edgardo Samuel'\n",
            " 'Nicholls, Mr. Joseph Charles'\n",
            " 'Andersson, Mr. August Edvard (\"Wennerstrom\")'\n",
            " 'Ford, Miss. Robina Maggie \"Ruby\"'\n",
            " 'Navratil, Mr. Michel (\"Louis M Hoffman\")'\n",
            " 'Byles, Rev. Thomas Roussel Davids' 'Bateman, Rev. Robert James'\n",
            " 'Pears, Mrs. Thomas (Edith Wearne)' 'Meo, Mr. Alfonzo'\n",
            " 'van Billiard, Mr. Austin Blyler' 'Olsen, Mr. Ole Martin'\n",
            " 'Williams, Mr. Charles Duane' 'Gilnagh, Miss. Katherine \"Katie\"'\n",
            " 'Corn, Mr. Harry' 'Smiljanic, Mr. Mile' 'Sage, Master. Thomas Henry'\n",
            " 'Cribb, Mr. John Hatfield'\n",
            " 'Watt, Mrs. James (Elizabeth \"Bessie\" Inglis Milne)'\n",
            " 'Bengtsson, Mr. John Viktor' 'Calic, Mr. Jovo'\n",
            " 'Panula, Master. Eino Viljami'\n",
            " 'Goldsmith, Master. Frank John William \"Frankie\"'\n",
            " 'Chibnall, Mrs. (Edith Martha Bowerman)'\n",
            " 'Skoog, Mrs. William (Anna Bernhardina Karlsson)' 'Baumann, Mr. John D'\n",
            " 'Ling, Mr. Lee' 'Van der hoef, Mr. Wyckoff' 'Rice, Master. Arthur'\n",
            " 'Johnson, Miss. Eleanor Ileen' 'Sivola, Mr. Antti Wilhelm'\n",
            " 'Smith, Mr. James Clinch' 'Klasen, Mr. Klas Albin'\n",
            " 'Lefebre, Master. Henry Forbes' 'Isham, Miss. Ann Elizabeth'\n",
            " 'Hale, Mr. Reginald' 'Leonard, Mr. Lionel' 'Sage, Miss. Constance Gladys'\n",
            " 'Pernot, Mr. Rene' 'Asplund, Master. Clarence Gustaf Hugo'\n",
            " 'Becker, Master. Richard F' 'Kink-Heilmann, Miss. Luise Gretchen'\n",
            " 'Rood, Mr. Hugh Roscoe'\n",
            " 'O\\'Brien, Mrs. Thomas (Johanna \"Hannah\" Godfrey)'\n",
            " 'Romaine, Mr. Charles Hallace (\"Mr C Rolmane\")' 'Bourke, Mr. John'\n",
            " 'Turcin, Mr. Stjepan' 'Pinsky, Mrs. (Rosa)' 'Carbines, Mr. William'\n",
            " 'Andersen-Jensen, Miss. Carla Christine Nielsine'\n",
            " 'Navratil, Master. Michel M' 'Brown, Mrs. James Joseph (Margaret Tobin)'\n",
            " 'Lurette, Miss. Elise' 'Mernagh, Mr. Robert'\n",
            " 'Olsen, Mr. Karl Siegwart Andreas' 'Madigan, Miss. Margaret \"Maggie\"'\n",
            " 'Yrois, Miss. Henriette (\"Mrs Harbeck\")' 'Vande Walle, Mr. Nestor Cyriel'\n",
            " 'Sage, Mr. Frederick' 'Johanson, Mr. Jakob Alfred' 'Youseff, Mr. Gerious'\n",
            " 'Cohen, Mr. Gurshon \"Gus\"' 'Strom, Miss. Telma Matilda'\n",
            " 'Backstrom, Mr. Karl Alfred' 'Albimona, Mr. Nassef Cassem'\n",
            " 'Carr, Miss. Helen \"Ellen\"' 'Blank, Mr. Henry' 'Ali, Mr. Ahmed'\n",
            " 'Cameron, Miss. Clear Annie' 'Perkin, Mr. John Henry'\n",
            " 'Givard, Mr. Hans Kristensen' 'Kiernan, Mr. Philip'\n",
            " 'Newell, Miss. Madeleine' 'Honkanen, Miss. Eliina'\n",
            " 'Jacobsohn, Mr. Sidney Samuel' 'Bazzani, Miss. Albina'\n",
            " 'Harris, Mr. Walter' 'Sunderland, Mr. Victor Francis'\n",
            " 'Bracken, Mr. James H' 'Green, Mr. George Henry' 'Nenkoff, Mr. Christo'\n",
            " 'Hoyt, Mr. Frederick Maxfield' 'Berglund, Mr. Karl Ivar Sven'\n",
            " 'Mellors, Mr. William John' 'Lovell, Mr. John Hall (\"Henry\")'\n",
            " 'Fahlstrom, Mr. Arne Jonas' 'Lefebre, Miss. Mathilde'\n",
            " 'Harris, Mrs. Henry Birkhardt (Irene Wallach)' 'Larsson, Mr. Bengt Edvin'\n",
            " 'Sjostedt, Mr. Ernst Adolf' 'Asplund, Miss. Lillian Gertrud'\n",
            " 'Leyson, Mr. Robert William Norman' 'Harknett, Miss. Alice Phoebe'\n",
            " 'Hold, Mr. Stephen' 'Collyer, Miss. Marjorie \"Lottie\"'\n",
            " 'Pengelly, Mr. Frederick William' 'Hunt, Mr. George Henry'\n",
            " 'Zabour, Miss. Thamine' 'Murphy, Miss. Katherine \"Kate\"'\n",
            " 'Coleridge, Mr. Reginald Charles' 'Maenpaa, Mr. Matti Alexanteri'\n",
            " 'Attalah, Mr. Sleiman' 'Minahan, Dr. William Edward'\n",
            " 'Lindahl, Miss. Agda Thorilda Viktoria' 'Hamalainen, Mrs. William (Anna)'\n",
            " 'Beckwith, Mr. Richard Leonard' 'Carter, Rev. Ernest Courtenay'\n",
            " 'Reed, Mr. James George' 'Strom, Mrs. Wilhelm (Elna Matilda Persson)'\n",
            " 'Stead, Mr. William Thomas' 'Lobb, Mr. William Arthur'\n",
            " 'Rosblom, Mrs. Viktor (Helena Wilhelmina)'\n",
            " 'Touma, Mrs. Darwis (Hanne Youssef Razi)'\n",
            " 'Thorne, Mrs. Gertrude Maybelle' 'Cherry, Miss. Gladys'\n",
            " 'Ward, Miss. Anna' 'Parrish, Mrs. (Lutie Davis)' 'Smith, Mr. Thomas'\n",
            " 'Asplund, Master. Edvin Rojj Felix' 'Taussig, Mr. Emil'\n",
            " 'Harrison, Mr. William' 'Henry, Miss. Delia' 'Reeves, Mr. David'\n",
            " 'Panula, Mr. Ernesti Arvid' 'Persson, Mr. Ernst Ulrik'\n",
            " 'Graham, Mrs. William Thompson (Edith Junkins)' 'Bissette, Miss. Amelia'\n",
            " 'Cairns, Mr. Alexander' 'Tornquist, Mr. William Henry'\n",
            " 'Mellinger, Mrs. (Elizabeth Anne Maidment)' 'Natsch, Mr. Charles H'\n",
            " 'Healy, Miss. Hanora \"Nora\"' 'Andrews, Miss. Kornelia Theodosia'\n",
            " 'Lindblom, Miss. Augusta Charlotta' 'Parkes, Mr. Francis \"Frank\"'\n",
            " 'Rice, Master. Eric' 'Abbott, Mrs. Stanton (Rosa Hunt)'\n",
            " 'Duane, Mr. Frank' 'Olsson, Mr. Nils Johan Goransson'\n",
            " 'de Pelsmaeker, Mr. Alfons' 'Dorking, Mr. Edward Arthur'\n",
            " 'Smith, Mr. Richard William' 'Stankovic, Mr. Ivan'\n",
            " 'de Mulder, Mr. Theodore' 'Naidenoff, Mr. Penko' 'Hosono, Mr. Masabumi'\n",
            " 'Connolly, Miss. Kate' 'Barber, Miss. Ellen \"Nellie\"'\n",
            " 'Bishop, Mrs. Dickinson H (Helen Walton)' 'Levy, Mr. Rene Jacques'\n",
            " 'Haas, Miss. Aloisia' 'Mineff, Mr. Ivan' 'Lewy, Mr. Ervin G'\n",
            " 'Hanna, Mr. Mansour' 'Allison, Miss. Helen Loraine'\n",
            " 'Saalfeld, Mr. Adolphe' 'Baxter, Mrs. James (Helene DeLaudeniere Chaput)'\n",
            " 'Kelly, Miss. Anna Katherine \"Annie Kate\"' 'McCoy, Mr. Bernard'\n",
            " 'Johnson, Mr. William Cahoone Jr' 'Keane, Miss. Nora A'\n",
            " 'Williams, Mr. Howard Hugh \"Harry\"' 'Allison, Master. Hudson Trevor'\n",
            " 'Fleming, Miss. Margaret'\n",
            " 'Penasco y Castellana, Mrs. Victor de Satode (Maria Josefa Perez de Soto y Vallejo)'\n",
            " 'Abelson, Mr. Samuel' 'Francatelli, Miss. Laura Mabel'\n",
            " 'Hays, Miss. Margaret Bechstein' 'Ryerson, Miss. Emily Borie'\n",
            " 'Lahtinen, Mrs. William (Anna Sylfven)' 'Hendekovic, Mr. Ignjac'\n",
            " 'Hart, Mr. Benjamin' 'Nilsson, Miss. Helmina Josefina'\n",
            " 'Kantor, Mrs. Sinai (Miriam Sternin)' 'Moraweck, Dr. Ernest'\n",
            " 'Wick, Miss. Mary Natalie'\n",
            " 'Spedden, Mrs. Frederic Oakley (Margaretta Corning Stone)'\n",
            " 'Dennis, Mr. Samuel' 'Danoff, Mr. Yoto' 'Slayter, Miss. Hilda Mary'\n",
            " 'Caldwell, Mrs. Albert Francis (Sylvia Mae Harbaugh)'\n",
            " 'Sage, Mr. George John Jr' 'Young, Miss. Marie Grice'\n",
            " 'Nysveen, Mr. Johan Hansen' 'Ball, Mrs. (Ada E Hall)'\n",
            " 'Goldsmith, Mrs. Frank John (Emily Alice Brown)'\n",
            " 'Hippach, Miss. Jean Gertrude' 'McCoy, Miss. Agnes' 'Partner, Mr. Austen'\n",
            " 'Graham, Mr. George Edward' 'Vander Planke, Mr. Leo Edmondus'\n",
            " 'Frauenthal, Mrs. Henry William (Clara Heinsheimer)' 'Denkoff, Mr. Mitto'\n",
            " 'Pears, Mr. Thomas Clinton' 'Burns, Miss. Elizabeth Margaret'\n",
            " 'Dahl, Mr. Karl Edwart' 'Blackwell, Mr. Stephen Weart'\n",
            " 'Navratil, Master. Edmond Roger' 'Fortune, Miss. Alice Elizabeth'\n",
            " 'Collander, Mr. Erik Gustaf' 'Sedgwick, Mr. Charles Frederick Waddington'\n",
            " 'Fox, Mr. Stanley Hubert' 'Brown, Miss. Amelia \"Mildred\"'\n",
            " 'Smith, Miss. Marion Elsie' 'Davison, Mrs. Thomas Henry (Mary E Finck)'\n",
            " 'Coutts, Master. William Loch \"William\"' 'Dimic, Mr. Jovan'\n",
            " 'Odahl, Mr. Nils Martin' 'Williams-Lambert, Mr. Fletcher Fellows'\n",
            " 'Elias, Mr. Tannous' 'Arnold-Franchi, Mr. Josef' 'Yousif, Mr. Wazli'\n",
            " 'Vanden Steen, Mr. Leo Peter' 'Bowerman, Miss. Elsie Edith'\n",
            " 'Funk, Miss. Annie Clemmer' 'McGovern, Miss. Mary'\n",
            " 'Mockler, Miss. Helen Mary \"Ellie\"' 'Skoog, Mr. Wilhelm'\n",
            " 'del Carlo, Mr. Sebastiano' 'Barbara, Mrs. (Catherine David)'\n",
            " 'Asim, Mr. Adola' \"O'Brien, Mr. Thomas\" 'Adahl, Mr. Mauritz Nils Martin'\n",
            " 'Warren, Mrs. Frank Manley (Anna Sophia Atkinson)'\n",
            " 'Moussa, Mrs. (Mantoura Boulos)' 'Jermyn, Miss. Annie'\n",
            " 'Aubart, Mme. Leontine Pauline' 'Harder, Mr. George Achilles'\n",
            " 'Wiklund, Mr. Jakob Alfred' 'Beavan, Mr. William Thomas'\n",
            " 'Ringhini, Mr. Sante' 'Palsson, Miss. Stina Viola'\n",
            " 'Meyer, Mrs. Edgar Joseph (Leila Saks)' 'Landergren, Miss. Aurora Adelia'\n",
            " 'Widener, Mr. Harry Elkins' 'Betros, Mr. Tannous'\n",
            " 'Gustafsson, Mr. Karl Gideon' 'Bidois, Miss. Rosalie'\n",
            " 'Nakid, Miss. Maria (\"Mary\")' 'Tikkanen, Mr. Juho'\n",
            " 'Holverson, Mrs. Alexander Oskar (Mary Aline Towner)'\n",
            " 'Plotcharsky, Mr. Vasil' 'Davies, Mr. Charles Henry'\n",
            " 'Goodwin, Master. Sidney Leonard' 'Buss, Miss. Kate'\n",
            " 'Sadlier, Mr. Matthew' 'Lehmann, Miss. Bertha'\n",
            " 'Carter, Mr. William Ernest' 'Jansson, Mr. Carl Olof'\n",
            " 'Gustafsson, Mr. Johan Birger' 'Newell, Miss. Marjorie'\n",
            " 'Sandstrom, Mrs. Hjalmar (Agnes Charlotta Bengtsson)'\n",
            " 'Johansson, Mr. Erik' 'Olsson, Miss. Elina' 'McKane, Mr. Peter David'\n",
            " 'Pain, Dr. Alfred' 'Trout, Mrs. William H (Jessie L)'\n",
            " 'Niskanen, Mr. Juha' 'Adams, Mr. John' 'Jussila, Miss. Mari Aina'\n",
            " 'Hakkarainen, Mr. Pekka Pietari' 'Oreskovic, Miss. Marija'\n",
            " 'Gale, Mr. Shadrach' 'Widegren, Mr. Carl/Charles Peter'\n",
            " 'Richards, Master. William Rowe' 'Birkeland, Mr. Hans Martin Monsen'\n",
            " 'Lefebre, Miss. Ida' 'Sdycoff, Mr. Todor' 'Hart, Mr. Henry'\n",
            " 'Minahan, Miss. Daisy E' 'Cunningham, Mr. Alfred Fleming'\n",
            " 'Sundman, Mr. Johan Julian' 'Meek, Mrs. Thomas (Annie Louise Rowley)'\n",
            " 'Drew, Mrs. James Vivian (Lulu Thorne Christian)'\n",
            " 'Silven, Miss. Lyyli Karoliina' 'Matthews, Mr. William John'\n",
            " 'Van Impe, Miss. Catharina' 'Gheorgheff, Mr. Stanio'\n",
            " 'Charters, Mr. David' 'Zimmerman, Mr. Leo'\n",
            " 'Danbom, Mrs. Ernst Gilbert (Anna Sigrid Maria Brogren)'\n",
            " 'Rosblom, Mr. Viktor Richard' 'Wiseman, Mr. Phillippe'\n",
            " 'Clarke, Mrs. Charles V (Ada Maria Winfield)'\n",
            " 'Phillips, Miss. Kate Florence (\"Mrs Kate Louise Phillips Marshall\")'\n",
            " 'Flynn, Mr. James' 'Pickard, Mr. Berk (Berk Trembisky)'\n",
            " 'Bjornstrom-Steffansson, Mr. Mauritz Hakan'\n",
            " 'Thorneycroft, Mrs. Percival (Florence Kate White)'\n",
            " 'Louch, Mrs. Charles Alexander (Alice Adelaide Slow)'\n",
            " 'Kallio, Mr. Nikolai Erland' 'Silvey, Mr. William Baird'\n",
            " 'Carter, Miss. Lucile Polk' 'Ford, Miss. Doolina Margaret \"Daisy\"'\n",
            " 'Richards, Mrs. Sidney (Emily Hocking)' 'Fortune, Mr. Mark'\n",
            " 'Kvillner, Mr. Johan Henrik Johannesson'\n",
            " 'Hart, Mrs. Benjamin (Esther Ada Bloomfield)' 'Hampe, Mr. Leon'\n",
            " 'Petterson, Mr. Johan Emil' 'Reynaldo, Ms. Encarnacion'\n",
            " 'Johannesen-Bratthammer, Mr. Bernt' 'Dodge, Master. Washington'\n",
            " 'Mellinger, Miss. Madeleine Violet' 'Seward, Mr. Frederic Kimber'\n",
            " 'Baclini, Miss. Marie Catherine' 'Peuchen, Major. Arthur Godfrey'\n",
            " 'West, Mr. Edwy Arthur' 'Hagland, Mr. Ingvald Olai Olsen'\n",
            " 'Foreman, Mr. Benjamin Laventall' 'Goldenberg, Mr. Samuel L'\n",
            " 'Peduzzi, Mr. Joseph' 'Jalsevac, Mr. Ivan' 'Millet, Mr. Francis Davis'\n",
            " 'Kenyon, Mrs. Frederick R (Marion)' 'Toomey, Miss. Ellen'\n",
            " \"O'Connor, Mr. Maurice\" 'Anderson, Mr. Harry' 'Morley, Mr. William'\n",
            " 'Gee, Mr. Arthur H' 'Milling, Mr. Jacob Christian' 'Maisner, Mr. Simon'\n",
            " 'Goncalves, Mr. Manuel Estanslas' 'Campbell, Mr. William'\n",
            " 'Smart, Mr. John Montgomery' 'Scanlan, Mr. James'\n",
            " 'Baclini, Miss. Helene Barbara' 'Keefe, Mr. Arthur' 'Cacic, Mr. Luka'\n",
            " 'West, Mrs. Edwy Arthur (Ada Mary Worth)'\n",
            " 'Jerwan, Mrs. Amin S (Marie Marthe Thuillard)'\n",
            " 'Strandberg, Miss. Ida Sofia' 'Clifford, Mr. George Quincy'\n",
            " 'Renouf, Mr. Peter Henry' 'Braund, Mr. Lewis Richard'\n",
            " 'Karlsson, Mr. Nils August' 'Hirvonen, Miss. Hildur E'\n",
            " 'Goodwin, Master. Harold Victor' 'Frost, Mr. Anthony Wood \"Archie\"'\n",
            " 'Rouse, Mr. Richard Henry' 'Turkula, Mrs. (Hedwig)'\n",
            " 'Bishop, Mr. Dickinson H' 'Lefebre, Miss. Jeannie'\n",
            " 'Hoyt, Mrs. Frederick Maxfield (Jane Anne Forby)'\n",
            " 'Kent, Mr. Edward Austin' 'Somerton, Mr. Francis William'\n",
            " 'Coutts, Master. Eden Leslie \"Neville\"'\n",
            " 'Hagland, Mr. Konrad Mathias Reiersen' 'Windelov, Mr. Einar'\n",
            " 'Molson, Mr. Harry Markland' 'Artagaveytia, Mr. Ramon'\n",
            " 'Stanley, Mr. Edward Roland' 'Yousseff, Mr. Gerious'\n",
            " 'Eustis, Miss. Elizabeth Mussey' 'Shellard, Mr. Frederick William'\n",
            " 'Allison, Mrs. Hudson J C (Bessie Waldo Daniels)' 'Svensson, Mr. Olof'\n",
            " 'Calic, Mr. Petar' 'Canavan, Miss. Mary' \"O'Sullivan, Miss. Bridget Mary\"\n",
            " 'Laitinen, Miss. Kristina Sofia' 'Maioni, Miss. Roberta'\n",
            " 'Penasco y Castellana, Mr. Victor de Satode'\n",
            " 'Quick, Mrs. Frederick Charles (Jane Richards)'\n",
            " 'Bradley, Mr. George (\"George Arthur Brayton\")'\n",
            " 'Olsen, Mr. Henry Margido' 'Lang, Mr. Fang' 'Daly, Mr. Eugene Patrick'\n",
            " 'Webber, Mr. James' 'McGough, Mr. James Robert'\n",
            " 'Rothschild, Mrs. Martin (Elizabeth L. Barrett)' 'Coleff, Mr. Satio'\n",
            " 'Walker, Mr. William Anderson' 'Lemore, Mrs. (Amelia Milley)'\n",
            " 'Ryan, Mr. Patrick'\n",
            " 'Angle, Mrs. William A (Florence \"Mary\" Agnes Hughes)'\n",
            " 'Pavlovic, Mr. Stefo' 'Perreault, Miss. Anne' 'Vovk, Mr. Janko'\n",
            " 'Lahoud, Mr. Sarkis' 'Hippach, Mrs. Louis Albert (Ida Sophia Fischer)'\n",
            " 'Kassem, Mr. Fared' 'Farrell, Mr. James' 'Ridsdale, Miss. Lucy'\n",
            " 'Farthing, Mr. John' 'Salonen, Mr. Johan Werner'\n",
            " 'Hocking, Mr. Richard George' 'Quick, Miss. Phyllis May'\n",
            " 'Toufik, Mr. Nakli' 'Elias, Mr. Joseph Jr'\n",
            " 'Peter, Mrs. Catherine (Catherine Rizk)' 'Cacic, Miss. Marija'\n",
            " 'Hart, Miss. Eva Miriam' 'Butt, Major. Archibald Willingham'\n",
            " 'LeRoy, Miss. Bertha' 'Risien, Mr. Samuel Beard'\n",
            " 'Frolicher, Miss. Hedwig Margaritha' 'Crosby, Miss. Harriet R'\n",
            " 'Andersson, Miss. Ingeborg Constanzia'\n",
            " 'Andersson, Miss. Sigrid Elisabeth' 'Beane, Mr. Edward'\n",
            " 'Douglas, Mr. Walter Donald' 'Nicholson, Mr. Arthur Ernest'\n",
            " 'Beane, Mrs. Edward (Ethel Clarke)' 'Padro y Manent, Mr. Julian'\n",
            " 'Goldsmith, Mr. Frank John' 'Davies, Master. John Morgan Jr'\n",
            " 'Thayer, Mr. John Borland Jr' 'Sharp, Mr. Percival James R'\n",
            " \"O'Brien, Mr. Timothy\" 'Leeni, Mr. Fahim (\"Philip Zenni\")'\n",
            " 'Ohman, Miss. Velin' 'Wright, Mr. George'\n",
            " 'Duff Gordon, Lady. (Lucille Christiana Sutherland) (\"Mrs Morgan\")'\n",
            " 'Robbins, Mr. Victor' 'Taussig, Mrs. Emil (Tillie Mandelbaum)'\n",
            " 'de Messemaeker, Mrs. Guillaume Joseph (Emma)' 'Morrow, Mr. Thomas Rowan'\n",
            " 'Sivic, Mr. Husein' 'Norman, Mr. Robert Douglas' 'Simmons, Mr. John'\n",
            " 'Meanwell, Miss. (Marion Ogden)' 'Davies, Mr. Alfred J'\n",
            " 'Stoytcheff, Mr. Ilia' 'Palsson, Mrs. Nils (Alma Cornelia Berglund)'\n",
            " 'Doharr, Mr. Tannous' 'Jonsson, Mr. Carl' 'Harris, Mr. George'\n",
            " 'Appleton, Mrs. Edward Dale (Charlotte Lamson)'\n",
            " 'Flynn, Mr. John Irwin (\"Irving\")' 'Kelly, Miss. Mary'\n",
            " 'Rush, Mr. Alfred George John' 'Patchett, Mr. George'\n",
            " 'Garside, Miss. Ethel' 'Silvey, Mrs. William Baird (Alice Munger)'\n",
            " 'Caram, Mrs. Joseph (Maria Elias)' 'Jussila, Mr. Eiriik'\n",
            " 'Christy, Miss. Julie Rachel'\n",
            " 'Thayer, Mrs. John Borland (Marian Longstreth Morris)'\n",
            " 'Downton, Mr. William James' 'Ross, Mr. John Hugo' 'Paulner, Mr. Uscher'\n",
            " 'Taussig, Miss. Ruth' 'Jarvis, Mr. John Denzil'\n",
            " 'Frolicher-Stehli, Mr. Maxmillian' 'Gilinski, Mr. Eliezer'\n",
            " 'Murdlin, Mr. Joseph' 'Rintamaki, Mr. Matti'\n",
            " 'Stephenson, Mrs. Walter Bertram (Martha Eustis)'\n",
            " 'Elsbury, Mr. William James' 'Bourke, Miss. Mary'\n",
            " 'Chapman, Mr. John Henry' 'Van Impe, Mr. Jean Baptiste'\n",
            " 'Leitch, Miss. Jessie Wills' 'Johnson, Mr. Alfred' 'Boulos, Mr. Hanna'\n",
            " 'Duff Gordon, Sir. Cosmo Edmund (\"Mr Morgan\")'\n",
            " 'Jacobsohn, Mrs. Sidney Samuel (Amy Frances Christy)'\n",
            " 'Slabenoff, Mr. Petco' 'Harrington, Mr. Charles H'\n",
            " 'Torber, Mr. Ernst William' 'Homer, Mr. Harry (\"Mr E Haven\")'\n",
            " 'Lindell, Mr. Edvard Bengtsson' 'Karaic, Mr. Milan'\n",
            " 'Daniel, Mr. Robert Williams'\n",
            " 'Laroche, Mrs. Joseph (Juliette Marie Louise Lafargue)'\n",
            " 'Shutes, Miss. Elizabeth W'\n",
            " 'Andersson, Mrs. Anders Johan (Alfrida Konstantia Brogren)'\n",
            " 'Jardin, Mr. Jose Neto' 'Murphy, Miss. Margaret Jane' 'Horgan, Mr. John'\n",
            " 'Brocklebank, Mr. William Alfred' 'Herman, Miss. Alice'\n",
            " 'Danbom, Mr. Ernst Gilbert'\n",
            " 'Lobb, Mrs. William Arthur (Cordelia K Stanlick)'\n",
            " 'Becker, Miss. Marion Louise' 'Gavey, Mr. Lawrence' 'Yasbeck, Mr. Antoni'\n",
            " 'Kimball, Mr. Edwin Nelson Jr' 'Nakid, Mr. Sahid'\n",
            " 'Hansen, Mr. Henry Damsgaard' 'Bowen, Mr. David John \"Dai\"'\n",
            " 'Sutton, Mr. Frederick' 'Kirkland, Rev. Charles Leonard'\n",
            " 'Longley, Miss. Gretchen Fiske' 'Bostandyeff, Mr. Guentcho'\n",
            " \"O'Connell, Mr. Patrick D\" 'Barkworth, Mr. Algernon Henry Wilson'\n",
            " 'Lundahl, Mr. Johan Svensson' 'Stahelin-Maeglin, Dr. Max'\n",
            " 'Parr, Mr. William Henry Marsh' 'Skoog, Miss. Mabel' 'Davis, Miss. Mary'\n",
            " 'Leinonen, Mr. Antti Gustaf' 'Collyer, Mr. Harvey'\n",
            " 'Panula, Mrs. Juha (Maria Emilia Ojala)' 'Thorneycroft, Mr. Percival'\n",
            " 'Jensen, Mr. Hans Peder' 'Sagesser, Mlle. Emma'\n",
            " 'Skoog, Miss. Margit Elizabeth' 'Foo, Mr. Choong'\n",
            " 'Baclini, Miss. Eugenie' 'Harper, Mr. Henry Sleeper' 'Cor, Mr. Liudevit'\n",
            " 'Simonius-Blumer, Col. Oberst Alfons' 'Willey, Mr. Edward'\n",
            " 'Stanley, Miss. Amy Zillah Elsie' 'Mitkoff, Mr. Mito'\n",
            " 'Doling, Miss. Elsie' 'Kalvik, Mr. Johannes Halvorsen'\n",
            " 'O\\'Leary, Miss. Hanora \"Norah\"' 'Hegarty, Miss. Hanora \"Nora\"'\n",
            " 'Hickman, Mr. Leonard Mark' 'Radeff, Mr. Alexander'\n",
            " 'Bourke, Mrs. John (Catherine)' 'Eitemiller, Mr. George Floyd'\n",
            " 'Newell, Mr. Arthur Webster' 'Frauenthal, Dr. Henry William'\n",
            " 'Badt, Mr. Mohamed' 'Colley, Mr. Edward Pomeroy' 'Coleff, Mr. Peju'\n",
            " 'Lindqvist, Mr. Eino William' 'Hickman, Mr. Lewis'\n",
            " 'Butler, Mr. Reginald Fenton' 'Rommetvedt, Mr. Knud Paust'\n",
            " 'Cook, Mr. Jacob' 'Taylor, Mrs. Elmer Zebley (Juliet Cummins Wright)'\n",
            " 'Brown, Mrs. Thomas William Solomon (Elizabeth Catherine Ford)'\n",
            " 'Davidson, Mr. Thornton' 'Mitchell, Mr. Henry Michael'\n",
            " 'Wilhelms, Mr. Charles' 'Watson, Mr. Ennis Hastings'\n",
            " 'Edvardsson, Mr. Gustaf Hjalmar' 'Sawyer, Mr. Frederick Charles'\n",
            " 'Turja, Miss. Anna Sofia' 'Goodwin, Mrs. Frederick (Augusta Tyler)'\n",
            " 'Cardeza, Mr. Thomas Drake Martinez' 'Peters, Miss. Katie'\n",
            " 'Hassab, Mr. Hammad' 'Olsvigen, Mr. Thor Anderson'\n",
            " 'Goodwin, Mr. Charles Edward' 'Brown, Mr. Thomas William Solomon'\n",
            " 'Laroche, Mr. Joseph Philippe Lemercier' 'Panula, Mr. Jaako Arnold'\n",
            " 'Dakic, Mr. Branko' 'Fischer, Mr. Eberhard Thelander'\n",
            " 'Madill, Miss. Georgette Alexandra' 'Dick, Mr. Albert Adrian'\n",
            " 'Karun, Miss. Manca' 'Lam, Mr. Ali' 'Saad, Mr. Khalil' 'Weir, Col. John'\n",
            " 'Chapman, Mr. Charles Henry' 'Kelly, Mr. James'\n",
            " 'Mullens, Miss. Katherine \"Katie\"' 'Thayer, Mr. John Borland'\n",
            " 'Humblen, Mr. Adolf Mathias Nicolai Olsen'\n",
            " 'Astor, Mrs. John Jacob (Madeleine Talmadge Force)'\n",
            " 'Silverthorne, Mr. Spencer Victor' 'Barbara, Miss. Saiide'\n",
            " 'Gallagher, Mr. Martin' 'Hansen, Mr. Henrik Juul'\n",
            " 'Morley, Mr. Henry Samuel (\"Mr Henry Marshall\")'\n",
            " 'Kelly, Mrs. Florence \"Fannie\"' 'Calderhead, Mr. Edward Pennington'\n",
            " 'Cleaver, Miss. Alice'\n",
            " 'Moubarek, Master. Halim Gonios (\"William George\")'\n",
            " 'Mayne, Mlle. Berthe Antonine (\"Mrs de Villiers\")' 'Klaber, Mr. Herman'\n",
            " 'Taylor, Mr. Elmer Zebley' 'Larsson, Mr. August Viktor'\n",
            " 'Greenberg, Mr. Samuel' 'Soholt, Mr. Peter Andreas Lauritz Andersen'\n",
            " 'Endres, Miss. Caroline Louise' 'Troutt, Miss. Edwina Celia \"Winnie\"'\n",
            " 'McEvoy, Mr. Michael' 'Johnson, Mr. Malkolm Joackim'\n",
            " 'Harper, Miss. Annie Jessie \"Nina\"' 'Jensen, Mr. Svend Lauritz'\n",
            " 'Gillespie, Mr. William Henry' 'Hodges, Mr. Henry Price'\n",
            " 'Chambers, Mr. Norman Campbell' 'Oreskovic, Mr. Luka'\n",
            " 'Renouf, Mrs. Peter Henry (Lillian Jefferys)' 'Mannion, Miss. Margareth'\n",
            " 'Bryhl, Mr. Kurt Arnold Gottfrid' 'Ilmakangas, Miss. Pieta Sofia'\n",
            " 'Allen, Miss. Elisabeth Walton' 'Hassan, Mr. Houssein G N'\n",
            " 'Knight, Mr. Robert J' 'Berriman, Mr. William John'\n",
            " 'Troupiansky, Mr. Moses Aaron' 'Williams, Mr. Leslie'\n",
            " 'Ford, Mrs. Edward (Margaret Ann Watson)' 'Lesurer, Mr. Gustave J'\n",
            " 'Ivanoff, Mr. Kanio' 'Nankoff, Mr. Minko' 'Hawksford, Mr. Walter James'\n",
            " 'Cavendish, Mr. Tyrell William' 'Ryerson, Miss. Susan Parker \"Suzette\"'\n",
            " 'McNamee, Mr. Neal' 'Stranden, Mr. Juho' 'Crosby, Capt. Edward Gifford'\n",
            " 'Abbott, Mr. Rossmore Edward' 'Sinkkonen, Miss. Anna'\n",
            " 'Marvin, Mr. Daniel Warner' 'Connaghton, Mr. Michael' 'Wells, Miss. Joan'\n",
            " 'Moor, Master. Meier' 'Vande Velde, Mr. Johannes Joseph'\n",
            " 'Jonkoff, Mr. Lalio' 'Herman, Mrs. Samuel (Jane Laver)'\n",
            " 'Hamalainen, Master. Viljo' 'Carlsson, Mr. August Sigfrid'\n",
            " 'Bailey, Mr. Percy Andrew' 'Theobald, Mr. Thomas Leonard'\n",
            " 'Rothes, the Countess. of (Lucy Noel Martha Dyer-Edwards)'\n",
            " 'Garfirth, Mr. John' 'Nirva, Mr. Iisakki Antino Aijo'\n",
            " 'Barah, Mr. Hanna Assi' 'Carter, Mrs. William Ernest (Lucile Polk)'\n",
            " 'Eklund, Mr. Hans Linus' 'Hogeboom, Mrs. John C (Anna Andrews)'\n",
            " 'Brewe, Dr. Arthur Jackson' 'Mangan, Miss. Mary' 'Moran, Mr. Daniel J'\n",
            " 'Gronnestad, Mr. Daniel Danielsen' 'Lievens, Mr. Rene Aime'\n",
            " 'Jensen, Mr. Niels Peder' 'Mack, Mrs. (Mary)' 'Elias, Mr. Dibo'\n",
            " 'Hocking, Mrs. Elizabeth (Eliza Needs)'\n",
            " 'Myhrman, Mr. Pehr Fabian Oliver Malkolm' 'Tobin, Mr. Roger'\n",
            " 'Emanuel, Miss. Virginia Ethel' 'Kilgannon, Mr. Thomas J'\n",
            " 'Robert, Mrs. Edward Scott (Elisabeth Walton McMillan)'\n",
            " 'Ayoub, Miss. Banoura' 'Dick, Mrs. Albert Adrian (Vera Gillespie)'\n",
            " 'Long, Mr. Milton Clyde' 'Johnston, Mr. Andrew G' 'Ali, Mr. William'\n",
            " 'Harmer, Mr. Abraham (David Lishin)' 'Sjoblom, Miss. Anna Sofia'\n",
            " 'Rice, Master. George Hugh' 'Dean, Master. Bertram Vere'\n",
            " 'Guggenheim, Mr. Benjamin' 'Keane, Mr. Andrew \"Andy\"'\n",
            " 'Gaskell, Mr. Alfred' 'Sage, Miss. Stella Anna'\n",
            " 'Hoyt, Mr. William Fisher' 'Dantcheff, Mr. Ristiu' 'Otter, Mr. Richard'\n",
            " 'Leader, Dr. Alice (Farnham)' 'Osman, Mrs. Mara'\n",
            " 'Ibrahim Shawah, Mr. Yousseff'\n",
            " 'Van Impe, Mrs. Jean Baptiste (Rosalie Paula Govaert)'\n",
            " 'Ponesell, Mr. Martin' 'Collyer, Mrs. Harvey (Charlotte Annie Tate)'\n",
            " 'Carter, Master. William Thornton II' 'Thomas, Master. Assad Alexander'\n",
            " 'Hedman, Mr. Oskar Arvid' 'Johansson, Mr. Karl Johan'\n",
            " 'Andrews, Mr. Thomas Jr' 'Pettersson, Miss. Ellen Natalia'\n",
            " 'Meyer, Mr. August' 'Chambers, Mrs. Norman Campbell (Bertha Griggs)'\n",
            " 'Alexander, Mr. William' 'Lester, Mr. James' 'Slemen, Mr. Richard James'\n",
            " 'Andersson, Miss. Ebba Iris Alfrida' 'Tomlin, Mr. Ernest Portage'\n",
            " 'Fry, Mr. Richard' 'Heininen, Miss. Wendla Maria' 'Mallet, Mr. Albert'\n",
            " 'Holm, Mr. John Fredrik Alexander' 'Skoog, Master. Karl Thorsten'\n",
            " 'Hays, Mrs. Charles Melville (Clara Jennings Gregg)' 'Lulic, Mr. Nikola'\n",
            " 'Reuchlin, Jonkheer. John George' 'Moor, Mrs. (Beila)'\n",
            " 'Panula, Master. Urho Abraham' 'Flynn, Mr. John' 'Lam, Mr. Len'\n",
            " 'Mallet, Master. Andre' 'McCormack, Mr. Thomas Joseph'\n",
            " 'Stone, Mrs. George Nelson (Martha Evelyn)'\n",
            " 'Yasbeck, Mrs. Antoni (Selini Alexander)'\n",
            " 'Richards, Master. George Sibley' 'Saad, Mr. Amin'\n",
            " 'Augustsson, Mr. Albert' 'Allum, Mr. Owen George'\n",
            " 'Compton, Miss. Sara Rebecca' 'Pasic, Mr. Jakob' 'Sirota, Mr. Maurice'\n",
            " 'Chip, Mr. Chang' 'Marechal, Mr. Pierre' 'Alhomaki, Mr. Ilmari Rudolf'\n",
            " 'Mudd, Mr. Thomas Charles' 'Serepeca, Miss. Augusta'\n",
            " 'Lemberopolous, Mr. Peter L' 'Culumovic, Mr. Jeso' 'Abbing, Mr. Anthony'\n",
            " 'Sage, Mr. Douglas Bullen' 'Markoff, Mr. Marin' 'Harper, Rev. John'\n",
            " 'Goldenberg, Mrs. Samuel L (Edwiga Grabowska)'\n",
            " 'Andersson, Master. Sigvard Harald Elias' 'Svensson, Mr. Johan'\n",
            " 'Boulos, Miss. Nourelain' 'Lines, Miss. Mary Conover'\n",
            " 'Carter, Mrs. Ernest Courtenay (Lilian Hughes)'\n",
            " 'Aks, Mrs. Sam (Leah Rosen)' 'Wick, Mrs. George Dennick (Mary Hitchcock)'\n",
            " 'Daly, Mr. Peter Denis ' 'Baclini, Mrs. Solomon (Latifa Qurban)'\n",
            " 'Razi, Mr. Raihed' 'Hansen, Mr. Claus Peter'\n",
            " 'Giles, Mr. Frederick Edward'\n",
            " 'Swift, Mrs. Frederick Joel (Margaret Welles Barron)'\n",
            " 'Sage, Miss. Dorothy Edith \"Dolly\"' 'Gill, Mr. John William'\n",
            " 'Bystrom, Mrs. (Karolina)' 'Duran y More, Miss. Asuncion'\n",
            " 'Roebling, Mr. Washington Augustus II' 'van Melkebeke, Mr. Philemon'\n",
            " 'Johnson, Master. Harold Theodor' 'Balkic, Mr. Cerin'\n",
            " 'Beckwith, Mrs. Richard Leonard (Sallie Monypeny)'\n",
            " 'Carlsson, Mr. Frans Olof' 'Vander Cruyssen, Mr. Victor'\n",
            " 'Abelson, Mrs. Samuel (Hannah Wizosky)'\n",
            " 'Najib, Miss. Adele Kiamie \"Jane\"' 'Gustafsson, Mr. Alfred Ossian'\n",
            " 'Petroff, Mr. Nedelio' 'Laleff, Mr. Kristo'\n",
            " 'Potter, Mrs. Thomas Jr (Lily Alexenia Wilson)'\n",
            " 'Shelley, Mrs. William (Imanita Parrish Hall)' 'Markun, Mr. Johann'\n",
            " 'Dahlberg, Miss. Gerda Ulrika' 'Banfield, Mr. Frederick James'\n",
            " 'Sutehall, Mr. Henry Jr' 'Rice, Mrs. William (Margaret Norton)'\n",
            " 'Montvila, Rev. Juozas' 'Graham, Miss. Margaret Edith'\n",
            " 'Johnston, Miss. Catherine Helen \"Carrie\"' 'Behr, Mr. Karl Howell'\n",
            " 'Dooley, Mr. Patrick']\n",
            "----------------------------------------\n",
            "Unique values for 'Sex':\n",
            "['male' 'female']\n",
            "----------------------------------------\n",
            "Unique values for 'Ticket':\n",
            "['A/5 21171' 'PC 17599' 'STON/O2. 3101282' '113803' '373450' '330877'\n",
            " '17463' '349909' '347742' '237736' 'PP 9549' '113783' 'A/5. 2151'\n",
            " '347082' '350406' '248706' '382652' '244373' '345763' '2649' '239865'\n",
            " '248698' '330923' '113788' '347077' '2631' '19950' '330959' '349216'\n",
            " 'PC 17601' 'PC 17569' '335677' 'C.A. 24579' 'PC 17604' '113789' '2677'\n",
            " 'A./5. 2152' '345764' '2651' '7546' '11668' '349253' 'SC/Paris 2123'\n",
            " '330958' 'S.C./A.4. 23567' '370371' '14311' '2662' '349237' '3101295'\n",
            " 'A/4. 39886' 'PC 17572' '2926' '113509' '19947' 'C.A. 31026' '2697'\n",
            " 'C.A. 34651' 'CA 2144' '2669' '113572' '36973' '347088' 'PC 17605' '2661'\n",
            " 'C.A. 29395' 'S.P. 3464' '3101281' '315151' 'C.A. 33111' 'S.O.C. 14879'\n",
            " '2680' '1601' '348123' '349208' '374746' '248738' '364516' '345767'\n",
            " '345779' '330932' '113059' 'SO/C 14885' '3101278' 'W./C. 6608'\n",
            " 'SOTON/OQ 392086' '343275' '343276' '347466' 'W.E.P. 5734' 'C.A. 2315'\n",
            " '364500' '374910' 'PC 17754' 'PC 17759' '231919' '244367' '349245'\n",
            " '349215' '35281' '7540' '3101276' '349207' '343120' '312991' '349249'\n",
            " '371110' '110465' '2665' '324669' '4136' '2627' 'STON/O 2. 3101294'\n",
            " '370369' 'PC 17558' 'A4. 54510' '27267' '370372' 'C 17369' '2668'\n",
            " '347061' '349241' 'SOTON/O.Q. 3101307' 'A/5. 3337' '228414' 'C.A. 29178'\n",
            " 'SC/PARIS 2133' '11752' '7534' 'PC 17593' '2678' '347081'\n",
            " 'STON/O2. 3101279' '365222' '231945' 'C.A. 33112' '350043' '230080'\n",
            " '244310' 'S.O.P. 1166' '113776' 'A.5. 11206' 'A/5. 851' 'Fa 265302'\n",
            " 'PC 17597' '35851' 'SOTON/OQ 392090' '315037' 'CA. 2343' '371362'\n",
            " 'C.A. 33595' '347068' '315093' '363291' '113505' 'PC 17318' '111240'\n",
            " 'STON/O 2. 3101280' '17764' '350404' '4133' 'PC 17595' '250653' 'LINE'\n",
            " 'SC/PARIS 2131' '230136' '315153' '113767' '370365' '111428' '364849'\n",
            " '349247' '234604' '28424' '350046' 'PC 17610' '368703' '4579' '370370'\n",
            " '248747' '345770' '3101264' '2628' 'A/5 3540' '347054' '2699' '367231'\n",
            " '112277' 'SOTON/O.Q. 3101311' 'F.C.C. 13528' 'A/5 21174' '250646'\n",
            " '367229' '35273' 'STON/O2. 3101283' '243847' '11813' 'W/C 14208'\n",
            " 'SOTON/OQ 392089' '220367' '21440' '349234' '19943' 'PP 4348' 'SW/PP 751'\n",
            " 'A/5 21173' '236171' '347067' '237442' 'C.A. 29566' 'W./C. 6609' '26707'\n",
            " 'C.A. 31921' '28665' 'SCO/W 1585' '367230' 'W./C. 14263'\n",
            " 'STON/O 2. 3101275' '2694' '19928' '347071' '250649' '11751' '244252'\n",
            " '362316' '113514' 'A/5. 3336' '370129' '2650' 'PC 17585' '110152'\n",
            " 'PC 17755' '230433' '384461' '110413' '112059' '382649' 'C.A. 17248'\n",
            " '347083' 'PC 17582' 'PC 17760' '113798' '250644' 'PC 17596' '370375'\n",
            " '13502' '347073' '239853' 'C.A. 2673' '336439' '347464' '345778'\n",
            " 'A/5. 10482' '113056' '349239' '345774' '349206' '237798' '370373'\n",
            " '19877' '11967' 'SC/Paris 2163' '349236' '349233' 'PC 17612' '2693'\n",
            " '113781' '19988' '9234' '367226' '226593' 'A/5 2466' '17421' 'PC 17758'\n",
            " 'P/PP 3381' 'PC 17485' '11767' 'PC 17608' '250651' '349243'\n",
            " 'F.C.C. 13529' '347470' '29011' '36928' '16966' 'A/5 21172' '349219'\n",
            " '234818' '345364' '28551' '111361' '113043' 'PC 17611' '349225' '7598'\n",
            " '113784' '248740' '244361' '229236' '248733' '31418' '386525'\n",
            " 'C.A. 37671' '315088' '7267' '113510' '2695' '2647' '345783' '237671'\n",
            " '330931' '330980' 'SC/PARIS 2167' '2691' 'SOTON/O.Q. 3101310' 'C 7076'\n",
            " '110813' '2626' '14313' 'PC 17477' '11765' '3101267' '323951' 'C 7077'\n",
            " '113503' '2648' '347069' 'PC 17757' '2653' 'STON/O 2. 3101293' '349227'\n",
            " '27849' '367655' 'SC 1748' '113760' '350034' '3101277' '350052' '350407'\n",
            " '28403' '244278' '240929' 'STON/O 2. 3101289' '341826' '4137' '315096'\n",
            " '28664' '347064' '29106' '312992' '349222' '394140' 'STON/O 2. 3101269'\n",
            " '343095' '28220' '250652' '28228' '345773' '349254' 'A/5. 13032' '315082'\n",
            " '347080' 'A/4. 34244' '2003' '250655' '364851' 'SOTON/O.Q. 392078'\n",
            " '110564' '376564' 'SC/AH 3085' 'STON/O 2. 3101274' '13507' 'C.A. 18723'\n",
            " '345769' '347076' '230434' '65306' '33638' '113794' '2666' '113786'\n",
            " '65303' '113051' '17453' 'A/5 2817' '349240' '13509' '17464'\n",
            " 'F.C.C. 13531' '371060' '19952' '364506' '111320' '234360' 'A/S 2816'\n",
            " 'SOTON/O.Q. 3101306' '113792' '36209' '323592' '315089' 'SC/AH Basle 541'\n",
            " '7553' '31027' '3460' '350060' '3101298' '239854' 'A/5 3594' '4134'\n",
            " '11771' 'A.5. 18509' '65304' 'SOTON/OQ 3101317' '113787' 'PC 17609'\n",
            " 'A/4 45380' '36947' 'C.A. 6212' '350035' '315086' '364846' '330909'\n",
            " '4135' '26360' '111427' 'C 4001' '382651' 'SOTON/OQ 3101316' 'PC 17473'\n",
            " 'PC 17603' '349209' '36967' 'C.A. 34260' '226875' '349242' '12749'\n",
            " '349252' '2624' '2700' '367232' 'W./C. 14258' 'PC 17483' '3101296'\n",
            " '29104' '2641' '2690' '315084' '113050' 'PC 17761' '364498' '13568'\n",
            " 'WE/P 5735' '2908' '693' 'SC/PARIS 2146' '244358' '330979' '2620'\n",
            " '347085' '113807' '11755' '345572' '372622' '349251' '218629'\n",
            " 'SOTON/OQ 392082' 'SOTON/O.Q. 392087' 'A/4 48871' '349205' '2686'\n",
            " '350417' 'S.W./PP 752' '11769' 'PC 17474' '14312' 'A/4. 20589' '358585'\n",
            " '243880' '2689' 'STON/O 2. 3101286' '237789' '13049' '3411' '237565'\n",
            " '13567' '14973' 'A./5. 3235' 'STON/O 2. 3101273' 'A/5 3902' '364848'\n",
            " 'SC/AH 29037' '248727' '2664' '349214' '113796' '364511' '111426'\n",
            " '349910' '349246' '113804' 'SOTON/O.Q. 3101305' '370377' '364512'\n",
            " '220845' '31028' '2659' '11753' '350029' '54636' '36963' '219533'\n",
            " '349224' '334912' '27042' '347743' '13214' '112052' '237668'\n",
            " 'STON/O 2. 3101292' '350050' '349231' '13213' 'S.O./P.P. 751' 'CA. 2314'\n",
            " '349221' '8475' '330919' '365226' '349223' '29751' '2623' '5727' '349210'\n",
            " 'STON/O 2. 3101285' '234686' '312993' 'A/5 3536' '19996' '29750'\n",
            " 'F.C. 12750' 'C.A. 24580' '244270' '239856' '349912' '342826' '4138'\n",
            " '330935' '6563' '349228' '350036' '24160' '17474' '349256' '2672'\n",
            " '113800' '248731' '363592' '35852' '348121' 'PC 17475' '36864' '350025'\n",
            " '223596' 'PC 17476' 'PC 17482' '113028' '7545' '250647' '348124' '34218'\n",
            " '36568' '347062' '350048' '12233' '250643' '113806' '315094' '36866'\n",
            " '236853' 'STON/O2. 3101271' '239855' '28425' '233639' '349201' '349218'\n",
            " '16988' '376566' 'STON/O 2. 3101288' '250648' '113773' '335097' '29103'\n",
            " '392096' '345780' '349204' '350042' '29108' '363294' 'SOTON/O2 3101272'\n",
            " '2663' '347074' '112379' '364850' '8471' '345781' '350047' 'S.O./P.P. 3'\n",
            " '2674' '29105' '347078' '383121' '36865' '2687' '113501' 'W./C. 6607'\n",
            " 'SOTON/O.Q. 3101312' '374887' '3101265' '12460' 'PC 17600' '349203'\n",
            " '28213' '17465' '349244' '2685' '2625' '347089' '347063' '112050'\n",
            " '347087' '248723' '3474' '28206' '364499' '112058' 'STON/O2. 3101290'\n",
            " 'S.C./PARIS 2079' 'C 7075' '315098' '19972' '368323' '367228' '2671'\n",
            " '347468' '2223' 'PC 17756' '315097' '392092' '11774' 'SOTON/O2 3101287'\n",
            " '2683' '315090' 'C.A. 5547' '349213' '347060' 'PC 17592' '392091'\n",
            " '113055' '2629' '350026' '28134' '17466' '233866' '236852'\n",
            " 'SC/PARIS 2149' 'PC 17590' '345777' '349248' '695' '345765' '2667'\n",
            " '349212' '349217' '349257' '7552' 'C.A./SOTON 34068' 'SOTON/OQ 392076'\n",
            " '211536' '112053' '111369' '370376']\n",
            "----------------------------------------\n",
            "Unique values for 'Cabin':\n",
            "[nan 'C85' 'C123' 'E46' 'G6' 'C103' 'D56' 'A6' 'C23 C25 C27' 'B78' 'D33'\n",
            " 'B30' 'C52' 'B28' 'C83' 'F33' 'F G73' 'E31' 'A5' 'D10 D12' 'D26' 'C110'\n",
            " 'B58 B60' 'E101' 'F E69' 'D47' 'B86' 'F2' 'C2' 'E33' 'B19' 'A7' 'C49'\n",
            " 'F4' 'A32' 'B4' 'B80' 'A31' 'D36' 'D15' 'C93' 'C78' 'D35' 'C87' 'B77'\n",
            " 'E67' 'B94' 'C125' 'C99' 'C118' 'D7' 'A19' 'B49' 'D' 'C22 C26' 'C106'\n",
            " 'C65' 'E36' 'C54' 'B57 B59 B63 B66' 'C7' 'E34' 'C32' 'B18' 'C124' 'C91'\n",
            " 'E40' 'T' 'C128' 'D37' 'B35' 'E50' 'C82' 'B96 B98' 'E10' 'E44' 'A34'\n",
            " 'C104' 'C111' 'C92' 'E38' 'D21' 'E12' 'E63' 'A14' 'B37' 'C30' 'D20' 'B79'\n",
            " 'E25' 'D46' 'B73' 'C95' 'B38' 'B39' 'B22' 'C86' 'C70' 'A16' 'C101' 'C68'\n",
            " 'A10' 'E68' 'B41' 'A20' 'D19' 'D50' 'D9' 'A23' 'B50' 'A26' 'D48' 'E58'\n",
            " 'C126' 'B71' 'B51 B53 B55' 'D49' 'B5' 'B20' 'F G63' 'C62 C64' 'E24' 'C90'\n",
            " 'C45' 'E8' 'B101' 'D45' 'C46' 'D30' 'E121' 'D11' 'E77' 'F38' 'B3' 'D6'\n",
            " 'B82 B84' 'D17' 'A36' 'B102' 'B69' 'E49' 'C47' 'D28' 'E17' 'A24' 'C50'\n",
            " 'B42' 'C148']\n",
            "----------------------------------------\n",
            "Unique values for 'Embarked':\n",
            "['S' 'C' 'Q' nan]\n",
            "----------------------------------------\n"
          ]
        }
      ]
    },
    {
      "cell_type": "code",
      "source": [
        "import pandas as pd\n",
        "\n",
        "\n",
        "\n",
        "# Check for missing values in all columns\n",
        "missing_values = df.isnull().sum()\n",
        "\n",
        "# Display the result\n",
        "print(\"Missing values in each column:\")\n",
        "print(missing_values)"
      ],
      "metadata": {
        "colab": {
          "base_uri": "https://localhost:8080/"
        },
        "id": "I48pWKjFone7",
        "outputId": "4401ca65-c4f8-4afc-f4e5-f41bf63fadb2"
      },
      "execution_count": 126,
      "outputs": [
        {
          "output_type": "stream",
          "name": "stdout",
          "text": [
            "Missing values in each column:\n",
            "PassengerId      0\n",
            "Survived         0\n",
            "Pclass           0\n",
            "Name             0\n",
            "Sex              0\n",
            "Age            177\n",
            "SibSp            0\n",
            "Parch            0\n",
            "Ticket           0\n",
            "Fare             0\n",
            "Cabin          687\n",
            "Embarked         2\n",
            "dtype: int64\n"
          ]
        }
      ]
    },
    {
      "cell_type": "code",
      "source": [
        "import pandas as pd\n",
        "\n",
        "\n",
        "# Get the data types of all columns\n",
        "data_types = df.dtypes\n",
        "\n",
        "# Display the results\n",
        "print(\"Data types of all columns:\")\n",
        "print(data_types)\n"
      ],
      "metadata": {
        "colab": {
          "base_uri": "https://localhost:8080/"
        },
        "id": "9AslAYNroswH",
        "outputId": "16434ef2-c723-470f-8fc5-7662877e3f4f"
      },
      "execution_count": 127,
      "outputs": [
        {
          "output_type": "stream",
          "name": "stdout",
          "text": [
            "Data types of all columns:\n",
            "PassengerId      int64\n",
            "Survived         int64\n",
            "Pclass           int64\n",
            "Name            object\n",
            "Sex             object\n",
            "Age            float64\n",
            "SibSp            int64\n",
            "Parch            int64\n",
            "Ticket          object\n",
            "Fare           float64\n",
            "Cabin           object\n",
            "Embarked        object\n",
            "dtype: object\n"
          ]
        }
      ]
    },
    {
      "cell_type": "code",
      "source": [
        "print(df)"
      ],
      "metadata": {
        "colab": {
          "base_uri": "https://localhost:8080/"
        },
        "id": "j7Ne0pTdpBEa",
        "outputId": "635ae531-8150-4b59-ae56-e90e667f7f01"
      },
      "execution_count": 128,
      "outputs": [
        {
          "output_type": "stream",
          "name": "stdout",
          "text": [
            "     PassengerId  Survived  Pclass  \\\n",
            "0              1         0       3   \n",
            "1              2         1       1   \n",
            "2              3         1       3   \n",
            "3              4         1       1   \n",
            "4              5         0       3   \n",
            "..           ...       ...     ...   \n",
            "886          887         0       2   \n",
            "887          888         1       1   \n",
            "888          889         0       3   \n",
            "889          890         1       1   \n",
            "890          891         0       3   \n",
            "\n",
            "                                                  Name     Sex   Age  SibSp  \\\n",
            "0                              Braund, Mr. Owen Harris    male  22.0      1   \n",
            "1    Cumings, Mrs. John Bradley (Florence Briggs Th...  female  38.0      1   \n",
            "2                               Heikkinen, Miss. Laina  female  26.0      0   \n",
            "3         Futrelle, Mrs. Jacques Heath (Lily May Peel)  female  35.0      1   \n",
            "4                             Allen, Mr. William Henry    male  35.0      0   \n",
            "..                                                 ...     ...   ...    ...   \n",
            "886                              Montvila, Rev. Juozas    male  27.0      0   \n",
            "887                       Graham, Miss. Margaret Edith  female  19.0      0   \n",
            "888           Johnston, Miss. Catherine Helen \"Carrie\"  female   NaN      1   \n",
            "889                              Behr, Mr. Karl Howell    male  26.0      0   \n",
            "890                                Dooley, Mr. Patrick    male  32.0      0   \n",
            "\n",
            "     Parch            Ticket     Fare Cabin Embarked  \n",
            "0        0         A/5 21171   7.2500   NaN        S  \n",
            "1        0          PC 17599  71.2833   C85        C  \n",
            "2        0  STON/O2. 3101282   7.9250   NaN        S  \n",
            "3        0            113803  53.1000  C123        S  \n",
            "4        0            373450   8.0500   NaN        S  \n",
            "..     ...               ...      ...   ...      ...  \n",
            "886      0            211536  13.0000   NaN        S  \n",
            "887      0            112053  30.0000   B42        S  \n",
            "888      2        W./C. 6607  23.4500   NaN        S  \n",
            "889      0            111369  30.0000  C148        C  \n",
            "890      0            370376   7.7500   NaN        Q  \n",
            "\n",
            "[891 rows x 12 columns]\n"
          ]
        }
      ]
    },
    {
      "cell_type": "code",
      "source": [
        "import pandas as pd\n",
        "import numpy as np\n",
        "\n",
        "\n",
        "# Choose the column for which you want to check NaN values\n",
        "selected_column = 'Cabin'\n",
        "\n",
        "# Check for NaN values in the selected column\n",
        "nan_values_in_column = df[selected_column].isna()\n",
        "\n",
        "# Count the number of NaN values in the selected column\n",
        "nan_count_in_column = df[selected_column].isna().sum()\n",
        "\n",
        "print(f\"NaN values in column '{selected_column}':\")\n",
        "print(nan_values_in_column)\n",
        "print(\"\\nTotal NaN count in column:\", nan_count_in_column)\n",
        "\n"
      ],
      "metadata": {
        "colab": {
          "base_uri": "https://localhost:8080/"
        },
        "id": "19vEiJN6pQda",
        "outputId": "44cff580-ed5f-4869-bdf1-790ffcdcc838"
      },
      "execution_count": 129,
      "outputs": [
        {
          "output_type": "stream",
          "name": "stdout",
          "text": [
            "NaN values in column 'Cabin':\n",
            "0       True\n",
            "1      False\n",
            "2       True\n",
            "3      False\n",
            "4       True\n",
            "       ...  \n",
            "886     True\n",
            "887    False\n",
            "888     True\n",
            "889    False\n",
            "890     True\n",
            "Name: Cabin, Length: 891, dtype: bool\n",
            "\n",
            "Total NaN count in column: 687\n"
          ]
        }
      ]
    },
    {
      "cell_type": "code",
      "source": [
        "import pandas as pd\n",
        "\n",
        "\n",
        "# Remove rows with NaN values in the 'Name' column\n",
        "df.dropna(subset=['Cabin'], inplace=True)\n",
        "\n",
        "# Display the DataFrame after removing NaN values\n",
        "print(df)\n"
      ],
      "metadata": {
        "colab": {
          "base_uri": "https://localhost:8080/"
        },
        "id": "-hmJvpv-qC3E",
        "outputId": "e866c6f8-927c-4c78-e8ae-b711e560def9"
      },
      "execution_count": 130,
      "outputs": [
        {
          "output_type": "stream",
          "name": "stdout",
          "text": [
            "     PassengerId  Survived  Pclass  \\\n",
            "1              2         1       1   \n",
            "3              4         1       1   \n",
            "6              7         0       1   \n",
            "10            11         1       3   \n",
            "11            12         1       1   \n",
            "..           ...       ...     ...   \n",
            "871          872         1       1   \n",
            "872          873         0       1   \n",
            "879          880         1       1   \n",
            "887          888         1       1   \n",
            "889          890         1       1   \n",
            "\n",
            "                                                  Name     Sex   Age  SibSp  \\\n",
            "1    Cumings, Mrs. John Bradley (Florence Briggs Th...  female  38.0      1   \n",
            "3         Futrelle, Mrs. Jacques Heath (Lily May Peel)  female  35.0      1   \n",
            "6                              McCarthy, Mr. Timothy J    male  54.0      0   \n",
            "10                     Sandstrom, Miss. Marguerite Rut  female   4.0      1   \n",
            "11                            Bonnell, Miss. Elizabeth  female  58.0      0   \n",
            "..                                                 ...     ...   ...    ...   \n",
            "871   Beckwith, Mrs. Richard Leonard (Sallie Monypeny)  female  47.0      1   \n",
            "872                           Carlsson, Mr. Frans Olof    male  33.0      0   \n",
            "879      Potter, Mrs. Thomas Jr (Lily Alexenia Wilson)  female  56.0      0   \n",
            "887                       Graham, Miss. Margaret Edith  female  19.0      0   \n",
            "889                              Behr, Mr. Karl Howell    male  26.0      0   \n",
            "\n",
            "     Parch    Ticket     Fare        Cabin Embarked  \n",
            "1        0  PC 17599  71.2833          C85        C  \n",
            "3        0    113803  53.1000         C123        S  \n",
            "6        0     17463  51.8625          E46        S  \n",
            "10       1   PP 9549  16.7000           G6        S  \n",
            "11       0    113783  26.5500         C103        S  \n",
            "..     ...       ...      ...          ...      ...  \n",
            "871      1     11751  52.5542          D35        S  \n",
            "872      0       695   5.0000  B51 B53 B55        S  \n",
            "879      1     11767  83.1583          C50        C  \n",
            "887      0    112053  30.0000          B42        S  \n",
            "889      0    111369  30.0000         C148        C  \n",
            "\n",
            "[204 rows x 12 columns]\n"
          ]
        }
      ]
    },
    {
      "cell_type": "code",
      "source": [
        "import pandas as pd\n",
        "import numpy as np\n",
        "\n",
        "\n",
        "# Choose the column for which you want to check NaN values\n",
        "selected_column = 'Cabin'\n",
        "\n",
        "# Check for NaN values in the selected column\n",
        "nan_values_in_column = df[selected_column].isna()\n",
        "\n",
        "# Count the number of NaN values in the selected column\n",
        "nan_count_in_column = df[selected_column].isna().sum()\n",
        "\n",
        "print(f\"NaN values in column '{selected_column}':\")\n",
        "print(nan_values_in_column)\n",
        "print(\"\\nTotal NaN count in column:\", nan_count_in_column)\n"
      ],
      "metadata": {
        "colab": {
          "base_uri": "https://localhost:8080/"
        },
        "id": "VTJ00VM0qaLu",
        "outputId": "003b99b0-56eb-44e7-a972-6641ab67f251"
      },
      "execution_count": 131,
      "outputs": [
        {
          "output_type": "stream",
          "name": "stdout",
          "text": [
            "NaN values in column 'Cabin':\n",
            "1      False\n",
            "3      False\n",
            "6      False\n",
            "10     False\n",
            "11     False\n",
            "       ...  \n",
            "871    False\n",
            "872    False\n",
            "879    False\n",
            "887    False\n",
            "889    False\n",
            "Name: Cabin, Length: 204, dtype: bool\n",
            "\n",
            "Total NaN count in column: 0\n"
          ]
        }
      ]
    },
    {
      "cell_type": "code",
      "source": [
        "import pandas as pd\n",
        "import numpy as np\n",
        "\n",
        "\n",
        "# Choose the column for which you want to check NaN values\n",
        "selected_column = 'Age'\n",
        "\n",
        "# Check for NaN values in the selected column\n",
        "nan_values_in_column = df[selected_column].isna()\n",
        "\n",
        "# Count the number of NaN values in the selected column\n",
        "nan_count_in_column = df[selected_column].isna().sum()\n",
        "\n",
        "print(f\"NaN values in column '{selected_column}':\")\n",
        "print(nan_values_in_column)\n",
        "print(\"\\nTotal NaN count in column:\", nan_count_in_column)\n"
      ],
      "metadata": {
        "colab": {
          "base_uri": "https://localhost:8080/"
        },
        "id": "g_n9LnmWpnuG",
        "outputId": "f1f81edb-a01e-4a09-dc14-fcc41cceb802"
      },
      "execution_count": 132,
      "outputs": [
        {
          "output_type": "stream",
          "name": "stdout",
          "text": [
            "NaN values in column 'Age':\n",
            "1      False\n",
            "3      False\n",
            "6      False\n",
            "10     False\n",
            "11     False\n",
            "       ...  \n",
            "871    False\n",
            "872    False\n",
            "879    False\n",
            "887    False\n",
            "889    False\n",
            "Name: Age, Length: 204, dtype: bool\n",
            "\n",
            "Total NaN count in column: 19\n"
          ]
        }
      ]
    },
    {
      "cell_type": "code",
      "source": [
        "df['Age'].fillna(df['Age'].mean(), inplace=True)\n"
      ],
      "metadata": {
        "id": "oQCF79nep5RU"
      },
      "execution_count": 133,
      "outputs": []
    },
    {
      "cell_type": "code",
      "source": [
        "import pandas as pd\n",
        "import numpy as np\n",
        "\n",
        "\n",
        "# Choose the column for which you want to check NaN values\n",
        "selected_column = 'Age'\n",
        "\n",
        "# Check for NaN values in the selected column\n",
        "nan_values_in_column = df[selected_column].isna()\n",
        "\n",
        "# Count the number of NaN values in the selected column\n",
        "nan_count_in_column = df[selected_column].isna().sum()\n",
        "\n",
        "print(f\"NaN values in column '{selected_column}':\")\n",
        "print(nan_values_in_column)\n",
        "print(\"\\nTotal NaN count in column:\", nan_count_in_column)\n"
      ],
      "metadata": {
        "colab": {
          "base_uri": "https://localhost:8080/"
        },
        "id": "5Zt8s3L_p7E6",
        "outputId": "43c8c9f2-fbef-4f19-e16d-07132824531f"
      },
      "execution_count": 134,
      "outputs": [
        {
          "output_type": "stream",
          "name": "stdout",
          "text": [
            "NaN values in column 'Age':\n",
            "1      False\n",
            "3      False\n",
            "6      False\n",
            "10     False\n",
            "11     False\n",
            "       ...  \n",
            "871    False\n",
            "872    False\n",
            "879    False\n",
            "887    False\n",
            "889    False\n",
            "Name: Age, Length: 204, dtype: bool\n",
            "\n",
            "Total NaN count in column: 0\n"
          ]
        }
      ]
    },
    {
      "cell_type": "code",
      "source": [
        "import pandas as pd\n",
        "import numpy as np\n",
        "\n",
        "\n",
        "# Choose the column for which you want to check NaN values\n",
        "selected_column = 'Embarked'\n",
        "\n",
        "# Check for NaN values in the selected column\n",
        "nan_values_in_column = df[selected_column].isna()\n",
        "\n",
        "# Count the number of NaN values in the selected column\n",
        "nan_count_in_column = df[selected_column].isna().sum()\n",
        "\n",
        "print(f\"NaN values in column '{selected_column}':\")\n",
        "print(nan_values_in_column)\n",
        "print(\"\\nTotal NaN count in column:\", nan_count_in_column)\n"
      ],
      "metadata": {
        "colab": {
          "base_uri": "https://localhost:8080/"
        },
        "id": "IBe0acN-qelA",
        "outputId": "72338dbe-78e4-464c-b01e-73a5394cc274"
      },
      "execution_count": 135,
      "outputs": [
        {
          "output_type": "stream",
          "name": "stdout",
          "text": [
            "NaN values in column 'Embarked':\n",
            "1      False\n",
            "3      False\n",
            "6      False\n",
            "10     False\n",
            "11     False\n",
            "       ...  \n",
            "871    False\n",
            "872    False\n",
            "879    False\n",
            "887    False\n",
            "889    False\n",
            "Name: Embarked, Length: 204, dtype: bool\n",
            "\n",
            "Total NaN count in column: 2\n"
          ]
        }
      ]
    },
    {
      "cell_type": "code",
      "source": [
        "import pandas as pd\n",
        "\n",
        "\n",
        "# Remove rows with NaN values in the 'Name' column\n",
        "df.dropna(subset=['Embarked'], inplace=True)\n",
        "\n",
        "# Display the DataFrame after removing NaN values\n",
        "print(df)\n"
      ],
      "metadata": {
        "colab": {
          "base_uri": "https://localhost:8080/"
        },
        "id": "g7sCesvNqpty",
        "outputId": "ad89dbd0-3015-4fc3-af35-1643523f9b52"
      },
      "execution_count": 136,
      "outputs": [
        {
          "output_type": "stream",
          "name": "stdout",
          "text": [
            "     PassengerId  Survived  Pclass  \\\n",
            "1              2         1       1   \n",
            "3              4         1       1   \n",
            "6              7         0       1   \n",
            "10            11         1       3   \n",
            "11            12         1       1   \n",
            "..           ...       ...     ...   \n",
            "871          872         1       1   \n",
            "872          873         0       1   \n",
            "879          880         1       1   \n",
            "887          888         1       1   \n",
            "889          890         1       1   \n",
            "\n",
            "                                                  Name     Sex   Age  SibSp  \\\n",
            "1    Cumings, Mrs. John Bradley (Florence Briggs Th...  female  38.0      1   \n",
            "3         Futrelle, Mrs. Jacques Heath (Lily May Peel)  female  35.0      1   \n",
            "6                              McCarthy, Mr. Timothy J    male  54.0      0   \n",
            "10                     Sandstrom, Miss. Marguerite Rut  female   4.0      1   \n",
            "11                            Bonnell, Miss. Elizabeth  female  58.0      0   \n",
            "..                                                 ...     ...   ...    ...   \n",
            "871   Beckwith, Mrs. Richard Leonard (Sallie Monypeny)  female  47.0      1   \n",
            "872                           Carlsson, Mr. Frans Olof    male  33.0      0   \n",
            "879      Potter, Mrs. Thomas Jr (Lily Alexenia Wilson)  female  56.0      0   \n",
            "887                       Graham, Miss. Margaret Edith  female  19.0      0   \n",
            "889                              Behr, Mr. Karl Howell    male  26.0      0   \n",
            "\n",
            "     Parch    Ticket     Fare        Cabin Embarked  \n",
            "1        0  PC 17599  71.2833          C85        C  \n",
            "3        0    113803  53.1000         C123        S  \n",
            "6        0     17463  51.8625          E46        S  \n",
            "10       1   PP 9549  16.7000           G6        S  \n",
            "11       0    113783  26.5500         C103        S  \n",
            "..     ...       ...      ...          ...      ...  \n",
            "871      1     11751  52.5542          D35        S  \n",
            "872      0       695   5.0000  B51 B53 B55        S  \n",
            "879      1     11767  83.1583          C50        C  \n",
            "887      0    112053  30.0000          B42        S  \n",
            "889      0    111369  30.0000         C148        C  \n",
            "\n",
            "[202 rows x 12 columns]\n"
          ]
        }
      ]
    },
    {
      "cell_type": "code",
      "source": [
        "import pandas as pd\n",
        "import numpy as np\n",
        "\n",
        "\n",
        "# Choose the column for which you want to check NaN values\n",
        "selected_column = 'Embarked'\n",
        "\n",
        "# Check for NaN values in the selected column\n",
        "nan_values_in_column = df[selected_column].isna()\n",
        "\n",
        "# Count the number of NaN values in the selected column\n",
        "nan_count_in_column = df[selected_column].isna().sum()\n",
        "\n",
        "print(f\"NaN values in column '{selected_column}':\")\n",
        "print(nan_values_in_column)\n",
        "print(\"\\nTotal NaN count in column:\", nan_count_in_column)"
      ],
      "metadata": {
        "colab": {
          "base_uri": "https://localhost:8080/"
        },
        "id": "A-ww3c0JqtFW",
        "outputId": "353d7202-885d-4e5c-ff2b-0af2a3c11b90"
      },
      "execution_count": 137,
      "outputs": [
        {
          "output_type": "stream",
          "name": "stdout",
          "text": [
            "NaN values in column 'Embarked':\n",
            "1      False\n",
            "3      False\n",
            "6      False\n",
            "10     False\n",
            "11     False\n",
            "       ...  \n",
            "871    False\n",
            "872    False\n",
            "879    False\n",
            "887    False\n",
            "889    False\n",
            "Name: Embarked, Length: 202, dtype: bool\n",
            "\n",
            "Total NaN count in column: 0\n"
          ]
        }
      ]
    },
    {
      "cell_type": "code",
      "source": [
        "import pandas as pd\n",
        "\n",
        "\n",
        "\n",
        "# Check for missing values in all columns\n",
        "missing_values = df.isnull().sum()\n",
        "\n",
        "# Display the result\n",
        "print(\"Missing values in each column:\")\n",
        "print(missing_values)"
      ],
      "metadata": {
        "colab": {
          "base_uri": "https://localhost:8080/"
        },
        "id": "TY7aOKi8qwsX",
        "outputId": "0ef7209c-257c-4861-a6c2-15176027ffcf"
      },
      "execution_count": 138,
      "outputs": [
        {
          "output_type": "stream",
          "name": "stdout",
          "text": [
            "Missing values in each column:\n",
            "PassengerId    0\n",
            "Survived       0\n",
            "Pclass         0\n",
            "Name           0\n",
            "Sex            0\n",
            "Age            0\n",
            "SibSp          0\n",
            "Parch          0\n",
            "Ticket         0\n",
            "Fare           0\n",
            "Cabin          0\n",
            "Embarked       0\n",
            "dtype: int64\n"
          ]
        }
      ]
    },
    {
      "cell_type": "code",
      "source": [
        "import pandas as pd\n",
        "\n",
        "\n",
        "# Get the data types of all columns\n",
        "data_types = df.dtypes\n",
        "\n",
        "# Display the results\n",
        "print(\"Data types of all columns:\")\n",
        "print(data_types)\n"
      ],
      "metadata": {
        "colab": {
          "base_uri": "https://localhost:8080/"
        },
        "id": "Nb34dzlZrVAQ",
        "outputId": "303c0c14-68f0-4d64-cca6-56506245863c"
      },
      "execution_count": 139,
      "outputs": [
        {
          "output_type": "stream",
          "name": "stdout",
          "text": [
            "Data types of all columns:\n",
            "PassengerId      int64\n",
            "Survived         int64\n",
            "Pclass           int64\n",
            "Name            object\n",
            "Sex             object\n",
            "Age            float64\n",
            "SibSp            int64\n",
            "Parch            int64\n",
            "Ticket          object\n",
            "Fare           float64\n",
            "Cabin           object\n",
            "Embarked        object\n",
            "dtype: object\n"
          ]
        }
      ]
    },
    {
      "cell_type": "code",
      "source": [
        "import pandas as pd\n",
        "\n",
        "\n",
        "\n",
        "# Get unique values and their counts in the 'Category' column\n",
        "value_counts = df['Survived'].value_counts()\n",
        "\n",
        "# Display the unique values and their counts\n",
        "print(\"Unique values and their counts in the 'Survived' column:\")\n",
        "print(value_counts)"
      ],
      "metadata": {
        "colab": {
          "base_uri": "https://localhost:8080/"
        },
        "id": "t3l66e1GrvSU",
        "outputId": "601e4346-c54e-480b-8007-beaac25034d9"
      },
      "execution_count": 140,
      "outputs": [
        {
          "output_type": "stream",
          "name": "stdout",
          "text": [
            "Unique values and their counts in the 'Survived' column:\n",
            "1    134\n",
            "0     68\n",
            "Name: Survived, dtype: int64\n"
          ]
        }
      ]
    },
    {
      "cell_type": "markdown",
      "source": [
        "**Data Visualization**"
      ],
      "metadata": {
        "id": "wZhQ-uzpsIti"
      }
    },
    {
      "cell_type": "code",
      "source": [
        "import pandas as pd\n",
        "import seaborn as sns\n",
        "import matplotlib.pyplot as plt\n",
        "\n",
        "\n",
        "# Get unique values and their counts in the 'Category' column\n",
        "value_counts = df['Survived'].value_counts()\n",
        "\n",
        "# Plot a bar chart\n",
        "plt.figure(figsize=(8, 5))\n",
        "sns.barplot(x=value_counts.index, y=value_counts.values, palette=\"viridis\")\n",
        "plt.title(\"Unique Values and Their Counts in 'Survived' Column\")\n",
        "plt.xlabel(\"Passengers Survived\")\n",
        "plt.ylabel(\"Count\")\n",
        "plt.show()\n"
      ],
      "metadata": {
        "colab": {
          "base_uri": "https://localhost:8080/",
          "height": 574
        },
        "id": "9sI1CViAsKk5",
        "outputId": "22eace9e-b3dd-494e-ceb7-27d703ce224d"
      },
      "execution_count": 141,
      "outputs": [
        {
          "output_type": "stream",
          "name": "stderr",
          "text": [
            "<ipython-input-141-76a0619993b6>:11: FutureWarning: \n",
            "\n",
            "Passing `palette` without assigning `hue` is deprecated and will be removed in v0.14.0. Assign the `x` variable to `hue` and set `legend=False` for the same effect.\n",
            "\n",
            "  sns.barplot(x=value_counts.index, y=value_counts.values, palette=\"viridis\")\n"
          ]
        },
        {
          "output_type": "display_data",
          "data": {
            "text/plain": [
              "<Figure size 800x500 with 1 Axes>"
            ],
            "image/png": "[encoded data removed]"
          },
          "metadata": {}
        }
      ]
    },
    {
      "cell_type": "code",
      "source": [
        "import pandas as pd\n",
        "import seaborn as sns\n",
        "import matplotlib.pyplot as plt\n",
        "\n",
        "\n",
        "\n",
        "# Plot a count plot\n",
        "plt.figure(figsize=(8, 5))\n",
        "sns.countplot(x='Survived', hue='Sex', data=df, palette=\"Set1\")\n",
        "plt.title(\"Survival Count by Sex\")\n",
        "plt.xlabel(\"Survived (0 = No, 1 = Yes)\")\n",
        "plt.ylabel(\"Count\")\n",
        "plt.show()\n"
      ],
      "metadata": {
        "colab": {
          "base_uri": "https://localhost:8080/",
          "height": 487
        },
        "id": "ibWz17iwsWKY",
        "outputId": "f769f066-71ed-4ba1-a8a5-7179363524aa"
      },
      "execution_count": 142,
      "outputs": [
        {
          "output_type": "display_data",
          "data": {
            "text/plain": [
              "<Figure size 800x500 with 1 Axes>"
            ],
            "image/png": "[encoded data removed]"
          },
          "metadata": {}
        }
      ]
    },
    {
      "cell_type": "code",
      "source": [
        "import pandas as pd\n",
        "import seaborn as sns\n",
        "import matplotlib.pyplot as plt\n",
        "\n",
        "\n",
        "\n",
        "# Filter the DataFrame to include only passengers who survived\n",
        "survived_data = df[df['Survived'] == 1]\n",
        "\n",
        "# Plot a histogram\n",
        "plt.figure(figsize=(8, 5))\n",
        "sns.histplot(data=survived_data, x='Age', bins=10, kde=True, color='skyblue')\n",
        "plt.title(\"Age Distribution of Survived Passengers\")\n",
        "plt.xlabel(\"Age\")\n",
        "plt.ylabel(\"Count\")\n",
        "plt.show()\n"
      ],
      "metadata": {
        "colab": {
          "base_uri": "https://localhost:8080/",
          "height": 487
        },
        "id": "MJg_Wvhxsn1r",
        "outputId": "f1dc6fc0-7de3-4882-daed-1fa62614d6f5"
      },
      "execution_count": 143,
      "outputs": [
        {
          "output_type": "display_data",
          "data": {
            "text/plain": [
              "<Figure size 800x500 with 1 Axes>"
            ],
            "image/png": "[encoded data removed]"
          },
          "metadata": {}
        }
      ]
    },
    {
      "cell_type": "code",
      "source": [
        "import pandas as pd\n",
        "import seaborn as sns\n",
        "import matplotlib.pyplot as plt\n",
        "\n",
        "\n",
        "# Check the column names in your dataset\n",
        "print(df.columns)\n",
        "\n",
        "# Plot a count plot\n",
        "plt.figure(figsize=(8, 5))\n",
        "sns.countplot(x='Survived', hue='Embarked', data=df, palette=\"Set2\")\n",
        "plt.title(\"Survival Count by Embarkation Point\")\n",
        "plt.xlabel(\"Survived (0 = No, 1 = Yes)\")\n",
        "plt.ylabel(\"Count\")\n",
        "plt.legend(title=\"Embarked\", loc=\"upper right\")\n",
        "plt.show()\n"
      ],
      "metadata": {
        "colab": {
          "base_uri": "https://localhost:8080/",
          "height": 539
        },
        "id": "u9M0uLGus3Yf",
        "outputId": "e9ebe2af-e5e2-4ec8-c0aa-4dd955e0a961"
      },
      "execution_count": 144,
      "outputs": [
        {
          "output_type": "stream",
          "name": "stdout",
          "text": [
            "Index(['PassengerId', 'Survived', 'Pclass', 'Name', 'Sex', 'Age', 'SibSp',\n",
            "       'Parch', 'Ticket', 'Fare', 'Cabin', 'Embarked'],\n",
            "      dtype='object')\n"
          ]
        },
        {
          "output_type": "display_data",
          "data": {
            "text/plain": [
              "<Figure size 800x500 with 1 Axes>"
            ],
            "image/png": "[encoded data removed]"
          },
          "metadata": {}
        }
      ]
    },
    {
      "cell_type": "markdown",
      "source": [
        "most of the survived passengers boarded from Southampton"
      ],
      "metadata": {
        "id": "FiA6wydKAxbH"
      }
    },
    {
      "cell_type": "code",
      "source": [
        "import pandas as pd\n",
        "import seaborn as sns\n",
        "import matplotlib.pyplot as plt\n",
        "\n",
        "\n",
        "\n",
        "# Plot a count plot\n",
        "plt.figure(figsize=(8, 5))\n",
        "sns.countplot(x='Survived', hue='Sex', data=df, palette=\"Set1\")\n",
        "plt.title(\"Survival Count by Sex\")\n",
        "plt.xlabel(\"Survived (0 = No, 1 = Yes)\")\n",
        "plt.ylabel(\"Count\")\n",
        "plt.legend(title=\"Sex\", loc=\"upper right\")\n",
        "plt.show()\n"
      ],
      "metadata": {
        "colab": {
          "base_uri": "https://localhost:8080/",
          "height": 487
        },
        "id": "nxJz8qFJAtQ8",
        "outputId": "380a903e-bc81-4685-c5b7-a6c3c213a4ab"
      },
      "execution_count": 145,
      "outputs": [
        {
          "output_type": "display_data",
          "data": {
            "text/plain": [
              "<Figure size 800x500 with 1 Axes>"
            ],
            "image/png": "[encoded data removed]"
          },
          "metadata": {}
        }
      ]
    },
    {
      "cell_type": "code",
      "source": [
        "import pandas as pd\n",
        "import seaborn as sns\n",
        "import matplotlib.pyplot as plt\n",
        "\n",
        "\n",
        "\n",
        "# Plot a count plot\n",
        "plt.figure(figsize=(8, 5))\n",
        "sns.countplot(x='Survived', hue='Parch', data=df, palette=\"viridis\")\n",
        "plt.title(\"Survival Count by Number of Parents/Children (Parch)\")\n",
        "plt.xlabel(\"Survived (0 = No, 1 = Yes)\")\n",
        "plt.ylabel(\"Count\")\n",
        "plt.legend(title=\"Parch\", loc=\"upper right\")\n",
        "plt.show()\n"
      ],
      "metadata": {
        "colab": {
          "base_uri": "https://localhost:8080/",
          "height": 487
        },
        "id": "-RKVVqR5BhJJ",
        "outputId": "b283067a-e43e-4a9e-8d1a-43a0c5692751"
      },
      "execution_count": 146,
      "outputs": [
        {
          "output_type": "display_data",
          "data": {
            "text/plain": [
              "<Figure size 800x500 with 1 Axes>"
            ],
            "image/png": "[encoded data removed]"
          },
          "metadata": {}
        }
      ]
    },
    {
      "cell_type": "markdown",
      "source": [
        "**Data Pre-processing**"
      ],
      "metadata": {
        "id": "dV9G1jV0Cbjk"
      }
    },
    {
      "cell_type": "code",
      "source": [
        "import pandas as pd\n",
        "\n",
        "\n",
        "\n",
        "# Calculate the correlation matrix\n",
        "correlation_matrix = df.corr()\n",
        "\n",
        "# Get the correlation of all columns with 'Survived'\n",
        "correlation_with_survived = correlation_matrix['Survived']\n",
        "\n",
        "# Display the correlation matrix and correlation with 'Survived'\n",
        "print(\"Correlation Matrix:\")\n",
        "print(correlation_matrix)\n",
        "\n",
        "print(\"\\nCorrelation with 'Survived':\")\n",
        "print(correlation_with_survived)\n"
      ],
      "metadata": {
        "colab": {
          "base_uri": "https://localhost:8080/"
        },
        "id": "vVzdrgtZCZiE",
        "outputId": "846cff67-8df9-40c4-b5c7-a762d59b1d34"
      },
      "execution_count": 147,
      "outputs": [
        {
          "output_type": "stream",
          "name": "stdout",
          "text": [
            "Correlation Matrix:\n",
            "             PassengerId  Survived    Pclass       Age     SibSp     Parch  \\\n",
            "PassengerId     1.000000  0.111985 -0.084147  0.029127 -0.081137 -0.064538   \n",
            "Survived        0.111985  1.000000 -0.030513 -0.240417  0.138202  0.042456   \n",
            "Pclass         -0.084147 -0.030513  1.000000 -0.284356 -0.086972  0.056288   \n",
            "Age             0.029127 -0.240417 -0.284356  1.000000 -0.152103 -0.266450   \n",
            "SibSp          -0.081137  0.138202 -0.086972 -0.152103  1.000000  0.262348   \n",
            "Parch          -0.064538  0.042456  0.056288 -0.266450  0.262348  1.000000   \n",
            "Fare            0.017465  0.128261 -0.311740 -0.090142  0.291777  0.384970   \n",
            "\n",
            "                 Fare  \n",
            "PassengerId  0.017465  \n",
            "Survived     0.128261  \n",
            "Pclass      -0.311740  \n",
            "Age         -0.090142  \n",
            "SibSp        0.291777  \n",
            "Parch        0.384970  \n",
            "Fare         1.000000  \n",
            "\n",
            "Correlation with 'Survived':\n",
            "PassengerId    0.111985\n",
            "Survived       1.000000\n",
            "Pclass        -0.030513\n",
            "Age           -0.240417\n",
            "SibSp          0.138202\n",
            "Parch          0.042456\n",
            "Fare           0.128261\n",
            "Name: Survived, dtype: float64\n"
          ]
        },
        {
          "output_type": "stream",
          "name": "stderr",
          "text": [
            "<ipython-input-147-afc19d8d8b69>:6: FutureWarning: The default value of numeric_only in DataFrame.corr is deprecated. In a future version, it will default to False. Select only valid columns or specify the value of numeric_only to silence this warning.\n",
            "  correlation_matrix = df.corr()\n"
          ]
        }
      ]
    },
    {
      "cell_type": "code",
      "source": [
        "print(df.columns)"
      ],
      "metadata": {
        "colab": {
          "base_uri": "https://localhost:8080/"
        },
        "id": "1-ngKUM7EI5R",
        "outputId": "82b51aec-d4a6-4e3d-cdfb-579d0b4a5dfb"
      },
      "execution_count": 148,
      "outputs": [
        {
          "output_type": "stream",
          "name": "stdout",
          "text": [
            "Index(['PassengerId', 'Survived', 'Pclass', 'Name', 'Sex', 'Age', 'SibSp',\n",
            "       'Parch', 'Ticket', 'Fare', 'Cabin', 'Embarked'],\n",
            "      dtype='object')\n"
          ]
        }
      ]
    },
    {
      "cell_type": "code",
      "source": [
        "import pandas as pd\n",
        "\n",
        "\n",
        "# Drop specific columns\n",
        "columns_to_drop = ['Name', 'Pclass','Age','Cabin','PassengerId','Ticket']\n",
        "df = df.drop(columns=columns_to_drop)\n",
        "\n",
        "# Display the DataFrame after dropping columns\n",
        "print(\"DataFrame after dropping columns:\")\n",
        "print(df)\n"
      ],
      "metadata": {
        "colab": {
          "base_uri": "https://localhost:8080/"
        },
        "id": "c_dQZpOoDX4Q",
        "outputId": "63722578-98ad-40d7-cfdb-99cf97ba9912"
      },
      "execution_count": 149,
      "outputs": [
        {
          "output_type": "stream",
          "name": "stdout",
          "text": [
            "DataFrame after dropping columns:\n",
            "     Survived     Sex  SibSp  Parch     Fare Embarked\n",
            "1           1  female      1      0  71.2833        C\n",
            "3           1  female      1      0  53.1000        S\n",
            "6           0    male      0      0  51.8625        S\n",
            "10          1  female      1      1  16.7000        S\n",
            "11          1  female      0      0  26.5500        S\n",
            "..        ...     ...    ...    ...      ...      ...\n",
            "871         1  female      1      1  52.5542        S\n",
            "872         0    male      0      0   5.0000        S\n",
            "879         1  female      0      1  83.1583        C\n",
            "887         1  female      0      0  30.0000        S\n",
            "889         1    male      0      0  30.0000        C\n",
            "\n",
            "[202 rows x 6 columns]\n"
          ]
        }
      ]
    },
    {
      "cell_type": "code",
      "source": [
        "print(df.columns)"
      ],
      "metadata": {
        "colab": {
          "base_uri": "https://localhost:8080/"
        },
        "id": "G6ngOTv_D4uX",
        "outputId": "d61757f1-43ea-4761-a6a7-63fbd224182a"
      },
      "execution_count": 150,
      "outputs": [
        {
          "output_type": "stream",
          "name": "stdout",
          "text": [
            "Index(['Survived', 'Sex', 'SibSp', 'Parch', 'Fare', 'Embarked'], dtype='object')\n"
          ]
        }
      ]
    },
    {
      "cell_type": "code",
      "source": [
        "import pandas as pd\n",
        "\n",
        "# Assuming 'df' is your DataFrame\n",
        "# If 'df' is not defined, replace it with the actual variable name of your DataFrame\n",
        "\n",
        "# Select only columns with data type 'object'\n",
        "categorical_columns = df.select_dtypes(include=['object']).columns\n",
        "\n",
        "# Display the list of categorical columns\n",
        "print(\"Categorical Columns:\")\n",
        "print(categorical_columns)\n"
      ],
      "metadata": {
        "colab": {
          "base_uri": "https://localhost:8080/"
        },
        "id": "Us4jtiQTFT_1",
        "outputId": "252ecb65-9429-4210-b2f3-b29a4bb580a5"
      },
      "execution_count": 151,
      "outputs": [
        {
          "output_type": "stream",
          "name": "stdout",
          "text": [
            "Categorical Columns:\n",
            "Index(['Sex', 'Embarked'], dtype='object')\n"
          ]
        }
      ]
    },
    {
      "cell_type": "code",
      "source": [
        "#one hot encoding for all the categorical columns\n",
        "\n",
        "categorical_columns = ['Sex', 'Embarked']\n",
        "df_encode = pd.get_dummies(data=df,\n",
        "                           columns=categorical_columns,\n",
        "                           drop_first=True,\n",
        "                           dtype='int8')\n",
        "\n",
        "# Let's have a look at the difference in data before/after encoding\n",
        "print('Columns in original data frame:\\n',df.columns.values)\n",
        "print('\\nNumber of rows and columns in the dataset:',df.shape)\n",
        "print('\\nColumns in data frame after encoding dummy variable:\\n',df_encode.columns.values)\n",
        "print('\\nNumber of rows and columns in the dataset:',df_encode.shape)"
      ],
      "metadata": {
        "colab": {
          "base_uri": "https://localhost:8080/"
        },
        "id": "WltB1MCyFYSi",
        "outputId": "8023c0b2-2230-44d9-caca-34942177709d"
      },
      "execution_count": 152,
      "outputs": [
        {
          "output_type": "stream",
          "name": "stdout",
          "text": [
            "Columns in original data frame:\n",
            " ['Survived' 'Sex' 'SibSp' 'Parch' 'Fare' 'Embarked']\n",
            "\n",
            "Number of rows and columns in the dataset: (202, 6)\n",
            "\n",
            "Columns in data frame after encoding dummy variable:\n",
            " ['Survived' 'SibSp' 'Parch' 'Fare' 'Sex_male' 'Embarked_Q' 'Embarked_S']\n",
            "\n",
            "Number of rows and columns in the dataset: (202, 7)\n"
          ]
        }
      ]
    },
    {
      "cell_type": "code",
      "source": [
        "import pandas as pd\n",
        "\n",
        "# Assuming 'df' is your DataFrame\n",
        "# If 'df' is not defined, replace it with the actual variable name of your DataFrame\n",
        "\n",
        "# Select only numeric columns\n",
        "numerical_columns = df.select_dtypes(include=['int64', 'float64']).columns\n",
        "\n",
        "# Display the list of numerical columns\n",
        "print(\"Numerical Columns:\")\n",
        "print(numerical_columns)"
      ],
      "metadata": {
        "colab": {
          "base_uri": "https://localhost:8080/"
        },
        "id": "KxDOyHqeFb1z",
        "outputId": "65d69e7b-1141-461c-cf38-f687b98c938a"
      },
      "execution_count": 153,
      "outputs": [
        {
          "output_type": "stream",
          "name": "stdout",
          "text": [
            "Numerical Columns:\n",
            "Index(['Survived', 'SibSp', 'Parch', 'Fare'], dtype='object')\n"
          ]
        }
      ]
    },
    {
      "cell_type": "code",
      "source": [
        "import pandas as pd\n",
        "from sklearn.preprocessing import MinMaxScaler\n",
        "\n",
        "# Assuming 'df' is your DataFrame\n",
        "# If 'df' is not defined, replace it with the actual variable name of your DataFrame\n",
        "\n",
        "# List of numerical columns to be normalized\n",
        "numerical_columns_to_normalize = [ 'Survived', 'SibSp', 'Parch', 'Fare']\n",
        "\n",
        "# Create a MinMaxScaler\n",
        "scaler = MinMaxScaler()\n",
        "\n",
        "# Apply Min-Max Scaling to the specified columns\n",
        "df[numerical_columns_to_normalize] = scaler.fit_transform(df[numerical_columns_to_normalize])\n",
        "\n",
        "# Display the DataFrame with normalized numerical columns\n",
        "print(df.head())\n"
      ],
      "metadata": {
        "colab": {
          "base_uri": "https://localhost:8080/"
        },
        "id": "MXepbEzGFfRp",
        "outputId": "fb159c4a-04b9-4243-dcc7-8e2674396601"
      },
      "execution_count": 154,
      "outputs": [
        {
          "output_type": "stream",
          "name": "stdout",
          "text": [
            "    Survived     Sex     SibSp  Parch      Fare Embarked\n",
            "1        1.0  female  0.333333   0.00  0.139136        C\n",
            "3        1.0  female  0.333333   0.00  0.103644        S\n",
            "6        0.0    male  0.000000   0.00  0.101229        S\n",
            "10       1.0  female  0.333333   0.25  0.032596        S\n",
            "11       1.0  female  0.000000   0.00  0.051822        S\n"
          ]
        }
      ]
    },
    {
      "cell_type": "code",
      "source": [
        "import pandas as pd\n",
        "\n",
        "# Assuming 'df' is your DataFrame\n",
        "# If 'df' is not defined, replace it with the actual variable name of your DataFrame\n",
        "\n",
        "# Display data types of all columns\n",
        "data_types = df.dtypes\n",
        "print(\"Data Types of Columns:\")\n",
        "print(data_types)\n"
      ],
      "metadata": {
        "colab": {
          "base_uri": "https://localhost:8080/"
        },
        "id": "3GUO3Pt9Gt6q",
        "outputId": "47297e63-5bb0-4b6d-fe89-dc9b9072827d"
      },
      "execution_count": 155,
      "outputs": [
        {
          "output_type": "stream",
          "name": "stdout",
          "text": [
            "Data Types of Columns:\n",
            "Survived    float64\n",
            "Sex          object\n",
            "SibSp       float64\n",
            "Parch       float64\n",
            "Fare        float64\n",
            "Embarked     object\n",
            "dtype: object\n"
          ]
        }
      ]
    },
    {
      "cell_type": "markdown",
      "source": [
        "**Modelling**"
      ],
      "metadata": {
        "id": "RF9kNPLhFspr"
      }
    },
    {
      "cell_type": "code",
      "source": [
        "import pandas as pd\n",
        "from sklearn.model_selection import train_test_split\n",
        "from sklearn.tree import DecisionTreeClassifier\n",
        "from sklearn.metrics import accuracy_score, classification_report\n",
        "\n",
        "\n",
        "# Perform one-hot encoding for 'Sex' column\n",
        "df_encoded = pd.get_dummies(df, columns=['Sex'], prefix='Sex')\n",
        "\n"
      ],
      "metadata": {
        "id": "8LQwKfJiFmVE"
      },
      "execution_count": 156,
      "outputs": []
    },
    {
      "cell_type": "code",
      "source": [
        "import pandas as pd\n",
        "\n",
        "# Assuming 'df' is your DataFrame\n",
        "# If 'df' is not defined, replace it with the actual variable name of your DataFrame\n",
        "\n",
        "# Display data types of all columns\n",
        "data_types = df.dtypes\n",
        "print(\"Data Types of Columns:\")\n",
        "print(data_types)"
      ],
      "metadata": {
        "colab": {
          "base_uri": "https://localhost:8080/"
        },
        "id": "ZBvPYeBF7QIx",
        "outputId": "e16db056-3922-4783-c818-da91dc617b17"
      },
      "execution_count": 157,
      "outputs": [
        {
          "output_type": "stream",
          "name": "stdout",
          "text": [
            "Data Types of Columns:\n",
            "Survived    float64\n",
            "Sex          object\n",
            "SibSp       float64\n",
            "Parch       float64\n",
            "Fare        float64\n",
            "Embarked     object\n",
            "dtype: object\n"
          ]
        }
      ]
    },
    {
      "cell_type": "code",
      "source": [
        "import pandas as pd\n",
        "from sklearn.model_selection import train_test_split\n",
        "from sklearn.linear_model import LogisticRegression\n",
        "from sklearn.metrics import accuracy_score, classification_report\n",
        "\n",
        "\n",
        "\n",
        "# Perform one-hot encoding for 'Sex' column\n",
        "df_encoded = pd.get_dummies(df, columns=['Sex', 'Embarked'], prefix=['Sex', 'Embarked'])\n",
        "# Define X and y\n",
        "X = df_encoded.drop('Survived', axis=1)  # Features (excluding 'Survived' column)\n",
        "y = df_encoded['Survived']  # Target variable\n",
        "\n",
        "# Split the data into training and testing sets\n",
        "X_train, X_test, y_train, y_test = train_test_split(X, y, test_size=0.2, random_state=42)\n",
        "\n",
        "# Initialize the logistic regression model\n",
        "model = LogisticRegression(random_state=42)\n",
        "\n",
        "# Train the model on the training data\n",
        "model.fit(X_train, y_train)\n",
        "\n",
        "# Make predictions on the test data\n",
        "predictions = model.predict(X_test)\n",
        "\n",
        "# Evaluate the model\n",
        "accuracy = accuracy_score(y_test, predictions)\n",
        "print(f\"Accuracy: {accuracy:.2f}\")\n",
        "\n",
        "# Display classification report with zero_division parameter\n",
        "print(\"Classification Report:\")\n",
        "print(classification_report(y_test, predictions, zero_division=1))\n",
        "\n",
        "\n",
        "\n",
        "\n",
        "\n",
        "\n"
      ],
      "metadata": {
        "colab": {
          "base_uri": "https://localhost:8080/"
        },
        "id": "bMmpz0wdI8VK",
        "outputId": "408160b7-336d-40fd-b3ae-66fd6f720eb4"
      },
      "execution_count": 158,
      "outputs": [
        {
          "output_type": "stream",
          "name": "stdout",
          "text": [
            "Accuracy: 0.78\n",
            "Classification Report:\n",
            "              precision    recall  f1-score   support\n",
            "\n",
            "         0.0       0.47      1.00      0.64         8\n",
            "         1.0       1.00      0.73      0.84        33\n",
            "\n",
            "    accuracy                           0.78        41\n",
            "   macro avg       0.74      0.86      0.74        41\n",
            "weighted avg       0.90      0.78      0.80        41\n",
            "\n"
          ]
        }
      ]
    }
  ]
}