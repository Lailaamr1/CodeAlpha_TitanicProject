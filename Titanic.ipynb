{
  "nbformat": 4,
  "nbformat_minor": 0,
  "metadata": {
    "colab": {
      "provenance": []
    },
    "kernelspec": {
      "name": "python3",
      "display_name": "Python 3"
    },
    "language_info": {
      "name": "python"
    }
  },
  "cells": [
    {
      "cell_type": "code",
      "execution_count": 50,
      "metadata": {
        "id": "JdEWePgImkP-"
      },
      "outputs": [],
      "source": [
        "import pandas as pd\n",
        "\n",
        "url = 'https://raw.githubusercontent.com/Lailaamr1/CodeAlpha_TitanicProject/main/train.csv'\n",
        "df = pd.read_csv(url)\n",
        "\n",
        "\n"
      ]
    },
    {
      "cell_type": "code",
      "source": [
        "df.head()"
      ],
      "metadata": {
        "colab": {
          "base_uri": "https://localhost:8080/",
          "height": 206
        },
        "id": "QmAw5NJgoVKY",
        "outputId": "5675711a-16d1-46e0-a30a-bfbd6dca55be"
      },
      "execution_count": 51,
      "outputs": [
        {
          "output_type": "execute_result",
          "data": {
            "text/plain": [
              "   PassengerId  Survived  Pclass  \\\n",
              "0            1         0       3   \n",
              "1            2         1       1   \n",
              "2            3         1       3   \n",
              "3            4         1       1   \n",
              "4            5         0       3   \n",
              "\n",
              "                                                Name     Sex   Age  SibSp  \\\n",
              "0                            Braund, Mr. Owen Harris    male  22.0      1   \n",
              "1  Cumings, Mrs. John Bradley (Florence Briggs Th...  female  38.0      1   \n",
              "2                             Heikkinen, Miss. Laina  female  26.0      0   \n",
              "3       Futrelle, Mrs. Jacques Heath (Lily May Peel)  female  35.0      1   \n",
              "4                           Allen, Mr. William Henry    male  35.0      0   \n",
              "\n",
              "   Parch            Ticket     Fare Cabin Embarked  \n",
              "0      0         A/5 21171   7.2500   NaN        S  \n",
              "1      0          PC 17599  71.2833   C85        C  \n",
              "2      0  STON/O2. 3101282   7.9250   NaN        S  \n",
              "3      0            113803  53.1000  C123        S  \n",
              "4      0            373450   8.0500   NaN        S  "
            ],
            "text/html": [
              "\n",
              "  <div id=\"df-f5ff867b-aac7-4b08-b918-441c990c4fe2\" class=\"colab-df-container\">\n",
              "    <div>\n",
              "<style scoped>\n",
              "    .dataframe tbody tr th:only-of-type {\n",
              "        vertical-align: middle;\n",
              "    }\n",
              "\n",
              "    .dataframe tbody tr th {\n",
              "        vertical-align: top;\n",
              "    }\n",
              "\n",
              "    .dataframe thead th {\n",
              "        text-align: right;\n",
              "    }\n",
              "</style>\n",
              "<table border=\"1\" class=\"dataframe\">\n",
              "  <thead>\n",
              "    <tr style=\"text-align: right;\">\n",
              "      <th></th>\n",
              "      <th>PassengerId</th>\n",
              "      <th>Survived</th>\n",
              "      <th>Pclass</th>\n",
              "      <th>Name</th>\n",
              "      <th>Sex</th>\n",
              "      <th>Age</th>\n",
              "      <th>SibSp</th>\n",
              "      <th>Parch</th>\n",
              "      <th>Ticket</th>\n",
              "      <th>Fare</th>\n",
              "      <th>Cabin</th>\n",
              "      <th>Embarked</th>\n",
              "    </tr>\n",
              "  </thead>\n",
              "  <tbody>\n",
              "    <tr>\n",
              "      <th>0</th>\n",
              "      <td>1</td>\n",
              "      <td>0</td>\n",
              "      <td>3</td>\n",
              "      <td>Braund, Mr. Owen Harris</td>\n",
              "      <td>male</td>\n",
              "      <td>22.0</td>\n",
              "      <td>1</td>\n",
              "      <td>0</td>\n",
              "      <td>A/5 21171</td>\n",
              "      <td>7.2500</td>\n",
              "      <td>NaN</td>\n",
              "      <td>S</td>\n",
              "    </tr>\n",
              "    <tr>\n",
              "      <th>1</th>\n",
              "      <td>2</td>\n",
              "      <td>1</td>\n",
              "      <td>1</td>\n",
              "      <td>Cumings, Mrs. John Bradley (Florence Briggs Th...</td>\n",
              "      <td>female</td>\n",
              "      <td>38.0</td>\n",
              "      <td>1</td>\n",
              "      <td>0</td>\n",
              "      <td>PC 17599</td>\n",
              "      <td>71.2833</td>\n",
              "      <td>C85</td>\n",
              "      <td>C</td>\n",
              "    </tr>\n",
              "    <tr>\n",
              "      <th>2</th>\n",
              "      <td>3</td>\n",
              "      <td>1</td>\n",
              "      <td>3</td>\n",
              "      <td>Heikkinen, Miss. Laina</td>\n",
              "      <td>female</td>\n",
              "      <td>26.0</td>\n",
              "      <td>0</td>\n",
              "      <td>0</td>\n",
              "      <td>STON/O2. 3101282</td>\n",
              "      <td>7.9250</td>\n",
              "      <td>NaN</td>\n",
              "      <td>S</td>\n",
              "    </tr>\n",
              "    <tr>\n",
              "      <th>3</th>\n",
              "      <td>4</td>\n",
              "      <td>1</td>\n",
              "      <td>1</td>\n",
              "      <td>Futrelle, Mrs. Jacques Heath (Lily May Peel)</td>\n",
              "      <td>female</td>\n",
              "      <td>35.0</td>\n",
              "      <td>1</td>\n",
              "      <td>0</td>\n",
              "      <td>113803</td>\n",
              "      <td>53.1000</td>\n",
              "      <td>C123</td>\n",
              "      <td>S</td>\n",
              "    </tr>\n",
              "    <tr>\n",
              "      <th>4</th>\n",
              "      <td>5</td>\n",
              "      <td>0</td>\n",
              "      <td>3</td>\n",
              "      <td>Allen, Mr. William Henry</td>\n",
              "      <td>male</td>\n",
              "      <td>35.0</td>\n",
              "      <td>0</td>\n",
              "      <td>0</td>\n",
              "      <td>373450</td>\n",
              "      <td>8.0500</td>\n",
              "      <td>NaN</td>\n",
              "      <td>S</td>\n",
              "    </tr>\n",
              "  </tbody>\n",
              "</table>\n",
              "</div>\n",
              "    <div class=\"colab-df-buttons\">\n",
              "\n",
              "  <div class=\"colab-df-container\">\n",
              "    <button class=\"colab-df-convert\" onclick=\"convertToInteractive('df-f5ff867b-aac7-4b08-b918-441c990c4fe2')\"\n",
              "            title=\"Convert this dataframe to an interactive table.\"\n",
              "            style=\"display:none;\">\n",
              "\n",
              "  <svg xmlns=\"http://www.w3.org/2000/svg\" height=\"24px\" viewBox=\"0 -960 960 960\">\n",
              "    <path d=\"M120-120v-720h720v720H120Zm60-500h600v-160H180v160Zm220 220h160v-160H400v160Zm0 220h160v-160H400v160ZM180-400h160v-160H180v160Zm440 0h160v-160H620v160ZM180-180h160v-160H180v160Zm440 0h160v-160H620v160Z\"/>\n",
              "  </svg>\n",
              "    </button>\n",
              "\n",
              "  <style>\n",
              "    .colab-df-container {\n",
              "      display:flex;\n",
              "      gap: 12px;\n",
              "    }\n",
              "\n",
              "    .colab-df-convert {\n",
              "      background-color: #E8F0FE;\n",
              "      border: none;\n",
              "      border-radius: 50%;\n",
              "      cursor: pointer;\n",
              "      display: none;\n",
              "      fill: #1967D2;\n",
              "      height: 32px;\n",
              "      padding: 0 0 0 0;\n",
              "      width: 32px;\n",
              "    }\n",
              "\n",
              "    .colab-df-convert:hover {\n",
              "      background-color: #E2EBFA;\n",
              "      box-shadow: 0px 1px 2px rgba(60, 64, 67, 0.3), 0px 1px 3px 1px rgba(60, 64, 67, 0.15);\n",
              "      fill: #174EA6;\n",
              "    }\n",
              "\n",
              "    .colab-df-buttons div {\n",
              "      margin-bottom: 4px;\n",
              "    }\n",
              "\n",
              "    [theme=dark] .colab-df-convert {\n",
              "      background-color: #3B4455;\n",
              "      fill: #D2E3FC;\n",
              "    }\n",
              "\n",
              "    [theme=dark] .colab-df-convert:hover {\n",
              "      background-color: #434B5C;\n",
              "      box-shadow: 0px 1px 3px 1px rgba(0, 0, 0, 0.15);\n",
              "      filter: drop-shadow(0px 1px 2px rgba(0, 0, 0, 0.3));\n",
              "      fill: #FFFFFF;\n",
              "    }\n",
              "  </style>\n",
              "\n",
              "    <script>\n",
              "      const buttonEl =\n",
              "        document.querySelector('#df-f5ff867b-aac7-4b08-b918-441c990c4fe2 button.colab-df-convert');\n",
              "      buttonEl.style.display =\n",
              "        google.colab.kernel.accessAllowed ? 'block' : 'none';\n",
              "\n",
              "      async function convertToInteractive(key) {\n",
              "        const element = document.querySelector('#df-f5ff867b-aac7-4b08-b918-441c990c4fe2');\n",
              "        const dataTable =\n",
              "          await google.colab.kernel.invokeFunction('convertToInteractive',\n",
              "                                                    [key], {});\n",
              "        if (!dataTable) return;\n",
              "\n",
              "        const docLinkHtml = 'Like what you see? Visit the ' +\n",
              "          '<a target=\"_blank\" href=https://colab.research.google.com/notebooks/data_table.ipynb>data table notebook</a>'\n",
              "          + ' to learn more about interactive tables.';\n",
              "        element.innerHTML = '';\n",
              "        dataTable['output_type'] = 'display_data';\n",
              "        await google.colab.output.renderOutput(dataTable, element);\n",
              "        const docLink = document.createElement('div');\n",
              "        docLink.innerHTML = docLinkHtml;\n",
              "        element.appendChild(docLink);\n",
              "      }\n",
              "    </script>\n",
              "  </div>\n",
              "\n",
              "\n",
              "<div id=\"df-d082d656-eca3-4d01-8423-eb58d0ef8fbc\">\n",
              "  <button class=\"colab-df-quickchart\" onclick=\"quickchart('df-d082d656-eca3-4d01-8423-eb58d0ef8fbc')\"\n",
              "            title=\"Suggest charts\"\n",
              "            style=\"display:none;\">\n",
              "\n",
              "<svg xmlns=\"http://www.w3.org/2000/svg\" height=\"24px\"viewBox=\"0 0 24 24\"\n",
              "     width=\"24px\">\n",
              "    <g>\n",
              "        <path d=\"M19 3H5c-1.1 0-2 .9-2 2v14c0 1.1.9 2 2 2h14c1.1 0 2-.9 2-2V5c0-1.1-.9-2-2-2zM9 17H7v-7h2v7zm4 0h-2V7h2v10zm4 0h-2v-4h2v4z\"/>\n",
              "    </g>\n",
              "</svg>\n",
              "  </button>\n",
              "\n",
              "<style>\n",
              "  .colab-df-quickchart {\n",
              "      --bg-color: #E8F0FE;\n",
              "      --fill-color: #1967D2;\n",
              "      --hover-bg-color: #E2EBFA;\n",
              "      --hover-fill-color: #174EA6;\n",
              "      --disabled-fill-color: #AAA;\n",
              "      --disabled-bg-color: #DDD;\n",
              "  }\n",
              "\n",
              "  [theme=dark] .colab-df-quickchart {\n",
              "      --bg-color: #3B4455;\n",
              "      --fill-color: #D2E3FC;\n",
              "      --hover-bg-color: #434B5C;\n",
              "      --hover-fill-color: #FFFFFF;\n",
              "      --disabled-bg-color: #3B4455;\n",
              "      --disabled-fill-color: #666;\n",
              "  }\n",
              "\n",
              "  .colab-df-quickchart {\n",
              "    background-color: var(--bg-color);\n",
              "    border: none;\n",
              "    border-radius: 50%;\n",
              "    cursor: pointer;\n",
              "    display: none;\n",
              "    fill: var(--fill-color);\n",
              "    height: 32px;\n",
              "    padding: 0;\n",
              "    width: 32px;\n",
              "  }\n",
              "\n",
              "  .colab-df-quickchart:hover {\n",
              "    background-color: var(--hover-bg-color);\n",
              "    box-shadow: 0 1px 2px rgba(60, 64, 67, 0.3), 0 1px 3px 1px rgba(60, 64, 67, 0.15);\n",
              "    fill: var(--button-hover-fill-color);\n",
              "  }\n",
              "\n",
              "  .colab-df-quickchart-complete:disabled,\n",
              "  .colab-df-quickchart-complete:disabled:hover {\n",
              "    background-color: var(--disabled-bg-color);\n",
              "    fill: var(--disabled-fill-color);\n",
              "    box-shadow: none;\n",
              "  }\n",
              "\n",
              "  .colab-df-spinner {\n",
              "    border: 2px solid var(--fill-color);\n",
              "    border-color: transparent;\n",
              "    border-bottom-color: var(--fill-color);\n",
              "    animation:\n",
              "      spin 1s steps(1) infinite;\n",
              "  }\n",
              "\n",
              "  @keyframes spin {\n",
              "    0% {\n",
              "      border-color: transparent;\n",
              "      border-bottom-color: var(--fill-color);\n",
              "      border-left-color: var(--fill-color);\n",
              "    }\n",
              "    20% {\n",
              "      border-color: transparent;\n",
              "      border-left-color: var(--fill-color);\n",
              "      border-top-color: var(--fill-color);\n",
              "    }\n",
              "    30% {\n",
              "      border-color: transparent;\n",
              "      border-left-color: var(--fill-color);\n",
              "      border-top-color: var(--fill-color);\n",
              "      border-right-color: var(--fill-color);\n",
              "    }\n",
              "    40% {\n",
              "      border-color: transparent;\n",
              "      border-right-color: var(--fill-color);\n",
              "      border-top-color: var(--fill-color);\n",
              "    }\n",
              "    60% {\n",
              "      border-color: transparent;\n",
              "      border-right-color: var(--fill-color);\n",
              "    }\n",
              "    80% {\n",
              "      border-color: transparent;\n",
              "      border-right-color: var(--fill-color);\n",
              "      border-bottom-color: var(--fill-color);\n",
              "    }\n",
              "    90% {\n",
              "      border-color: transparent;\n",
              "      border-bottom-color: var(--fill-color);\n",
              "    }\n",
              "  }\n",
              "</style>\n",
              "\n",
              "  <script>\n",
              "    async function quickchart(key) {\n",
              "      const quickchartButtonEl =\n",
              "        document.querySelector('#' + key + ' button');\n",
              "      quickchartButtonEl.disabled = true;  // To prevent multiple clicks.\n",
              "      quickchartButtonEl.classList.add('colab-df-spinner');\n",
              "      try {\n",
              "        const charts = await google.colab.kernel.invokeFunction(\n",
              "            'suggestCharts', [key], {});\n",
              "      } catch (error) {\n",
              "        console.error('Error during call to suggestCharts:', error);\n",
              "      }\n",
              "      quickchartButtonEl.classList.remove('colab-df-spinner');\n",
              "      quickchartButtonEl.classList.add('colab-df-quickchart-complete');\n",
              "    }\n",
              "    (() => {\n",
              "      let quickchartButtonEl =\n",
              "        document.querySelector('#df-d082d656-eca3-4d01-8423-eb58d0ef8fbc button');\n",
              "      quickchartButtonEl.style.display =\n",
              "        google.colab.kernel.accessAllowed ? 'block' : 'none';\n",
              "    })();\n",
              "  </script>\n",
              "</div>\n",
              "\n",
              "    </div>\n",
              "  </div>\n"
            ]
          },
          "metadata": {},
          "execution_count": 51
        }
      ]
    },
    {
      "cell_type": "markdown",
      "source": [
        "**Data Inspection and Data Cleaning**"
      ],
      "metadata": {
        "id": "qi7MtDMOoa16"
      }
    },
    {
      "cell_type": "code",
      "source": [
        "import pandas as pd\n",
        "\n",
        "\n",
        "\n",
        "# Check for missing values in all columns\n",
        "missing_values = df.isnull().sum()\n",
        "\n",
        "# Display the result\n",
        "print(\"Missing values in each column:\")\n",
        "print(missing_values)"
      ],
      "metadata": {
        "colab": {
          "base_uri": "https://localhost:8080/"
        },
        "id": "I48pWKjFone7",
        "outputId": "69d7b98f-15b5-4e25-dad4-f7bb01b9a811"
      },
      "execution_count": 52,
      "outputs": [
        {
          "output_type": "stream",
          "name": "stdout",
          "text": [
            "Missing values in each column:\n",
            "PassengerId      0\n",
            "Survived         0\n",
            "Pclass           0\n",
            "Name             0\n",
            "Sex              0\n",
            "Age            177\n",
            "SibSp            0\n",
            "Parch            0\n",
            "Ticket           0\n",
            "Fare             0\n",
            "Cabin          687\n",
            "Embarked         2\n",
            "dtype: int64\n"
          ]
        }
      ]
    },
    {
      "cell_type": "code",
      "source": [
        "import pandas as pd\n",
        "\n",
        "\n",
        "# Get the data types of all columns\n",
        "data_types = df.dtypes\n",
        "\n",
        "# Display the results\n",
        "print(\"Data types of all columns:\")\n",
        "print(data_types)\n"
      ],
      "metadata": {
        "colab": {
          "base_uri": "https://localhost:8080/"
        },
        "id": "9AslAYNroswH",
        "outputId": "8dbb2067-6851-41a0-f21c-fe4d5912f7b6"
      },
      "execution_count": 53,
      "outputs": [
        {
          "output_type": "stream",
          "name": "stdout",
          "text": [
            "Data types of all columns:\n",
            "PassengerId      int64\n",
            "Survived         int64\n",
            "Pclass           int64\n",
            "Name            object\n",
            "Sex             object\n",
            "Age            float64\n",
            "SibSp            int64\n",
            "Parch            int64\n",
            "Ticket          object\n",
            "Fare           float64\n",
            "Cabin           object\n",
            "Embarked        object\n",
            "dtype: object\n"
          ]
        }
      ]
    },
    {
      "cell_type": "code",
      "source": [
        "import pandas as pd\n",
        "import numpy as np\n",
        "\n",
        "\n",
        "# Choose the column for which you want to check NaN values\n",
        "selected_column = 'Cabin'\n",
        "\n",
        "# Check for NaN values in the selected column\n",
        "nan_values_in_column = df[selected_column].isna()\n",
        "\n",
        "# Count the number of NaN values in the selected column\n",
        "nan_count_in_column = df[selected_column].isna().sum()\n",
        "\n",
        "print(f\"NaN values in column '{selected_column}':\")\n",
        "print(nan_values_in_column)\n",
        "print(\"\\nTotal NaN count in column:\", nan_count_in_column)\n",
        "\n"
      ],
      "metadata": {
        "colab": {
          "base_uri": "https://localhost:8080/"
        },
        "id": "19vEiJN6pQda",
        "outputId": "f2a19cdd-bca4-4a2b-e3bc-c0ce00e619ca"
      },
      "execution_count": 54,
      "outputs": [
        {
          "output_type": "stream",
          "name": "stdout",
          "text": [
            "NaN values in column 'Cabin':\n",
            "0       True\n",
            "1      False\n",
            "2       True\n",
            "3      False\n",
            "4       True\n",
            "       ...  \n",
            "886     True\n",
            "887    False\n",
            "888     True\n",
            "889    False\n",
            "890     True\n",
            "Name: Cabin, Length: 891, dtype: bool\n",
            "\n",
            "Total NaN count in column: 687\n"
          ]
        }
      ]
    },
    {
      "cell_type": "code",
      "source": [
        "import pandas as pd\n",
        "\n",
        "\n",
        "# Remove rows with NaN values in the 'Name' column\n",
        "df.dropna(subset=['Cabin'], inplace=True)\n",
        "\n",
        "\n"
      ],
      "metadata": {
        "id": "-hmJvpv-qC3E"
      },
      "execution_count": 55,
      "outputs": []
    },
    {
      "cell_type": "code",
      "source": [
        "import pandas as pd\n",
        "import numpy as np\n",
        "\n",
        "\n",
        "# Choose the column for which you want to check NaN values\n",
        "selected_column = 'Cabin'\n",
        "\n",
        "# Check for NaN values in the selected column\n",
        "nan_values_in_column = df[selected_column].isna()\n",
        "\n",
        "# Count the number of NaN values in the selected column\n",
        "nan_count_in_column = df[selected_column].isna().sum()\n",
        "\n",
        "print(f\"NaN values in column '{selected_column}':\")\n",
        "print(nan_values_in_column)\n",
        "print(\"\\nTotal NaN count in column:\", nan_count_in_column)\n"
      ],
      "metadata": {
        "colab": {
          "base_uri": "https://localhost:8080/"
        },
        "id": "VTJ00VM0qaLu",
        "outputId": "a629456e-6d92-4801-ca0f-7b7d3cdb8f6f"
      },
      "execution_count": 56,
      "outputs": [
        {
          "output_type": "stream",
          "name": "stdout",
          "text": [
            "NaN values in column 'Cabin':\n",
            "1      False\n",
            "3      False\n",
            "6      False\n",
            "10     False\n",
            "11     False\n",
            "       ...  \n",
            "871    False\n",
            "872    False\n",
            "879    False\n",
            "887    False\n",
            "889    False\n",
            "Name: Cabin, Length: 204, dtype: bool\n",
            "\n",
            "Total NaN count in column: 0\n"
          ]
        }
      ]
    },
    {
      "cell_type": "code",
      "source": [
        "import pandas as pd\n",
        "import numpy as np\n",
        "\n",
        "\n",
        "# Choose the column for which you want to check NaN values\n",
        "selected_column = 'Age'\n",
        "\n",
        "# Check for NaN values in the selected column\n",
        "nan_values_in_column = df[selected_column].isna()\n",
        "\n",
        "# Count the number of NaN values in the selected column\n",
        "nan_count_in_column = df[selected_column].isna().sum()\n",
        "\n",
        "print(f\"NaN values in column '{selected_column}':\")\n",
        "print(nan_values_in_column)\n",
        "print(\"\\nTotal NaN count in column:\", nan_count_in_column)\n"
      ],
      "metadata": {
        "colab": {
          "base_uri": "https://localhost:8080/"
        },
        "id": "g_n9LnmWpnuG",
        "outputId": "53fda66a-5ecc-482b-8d09-e11d17c6efe4"
      },
      "execution_count": 57,
      "outputs": [
        {
          "output_type": "stream",
          "name": "stdout",
          "text": [
            "NaN values in column 'Age':\n",
            "1      False\n",
            "3      False\n",
            "6      False\n",
            "10     False\n",
            "11     False\n",
            "       ...  \n",
            "871    False\n",
            "872    False\n",
            "879    False\n",
            "887    False\n",
            "889    False\n",
            "Name: Age, Length: 204, dtype: bool\n",
            "\n",
            "Total NaN count in column: 19\n"
          ]
        }
      ]
    },
    {
      "cell_type": "code",
      "source": [
        "df['Age'].fillna(df['Age'].mean(), inplace=True)\n"
      ],
      "metadata": {
        "id": "oQCF79nep5RU"
      },
      "execution_count": 58,
      "outputs": []
    },
    {
      "cell_type": "code",
      "source": [
        "import pandas as pd\n",
        "import numpy as np\n",
        "\n",
        "\n",
        "# Choose the column for which you want to check NaN values\n",
        "selected_column = 'Age'\n",
        "\n",
        "# Check for NaN values in the selected column\n",
        "nan_values_in_column = df[selected_column].isna()\n",
        "\n",
        "# Count the number of NaN values in the selected column\n",
        "nan_count_in_column = df[selected_column].isna().sum()\n",
        "\n",
        "print(f\"NaN values in column '{selected_column}':\")\n",
        "print(nan_values_in_column)\n",
        "print(\"\\nTotal NaN count in column:\", nan_count_in_column)\n"
      ],
      "metadata": {
        "colab": {
          "base_uri": "https://localhost:8080/"
        },
        "id": "5Zt8s3L_p7E6",
        "outputId": "83281d0d-b6c0-4d54-95ea-bd1563eb0391"
      },
      "execution_count": 59,
      "outputs": [
        {
          "output_type": "stream",
          "name": "stdout",
          "text": [
            "NaN values in column 'Age':\n",
            "1      False\n",
            "3      False\n",
            "6      False\n",
            "10     False\n",
            "11     False\n",
            "       ...  \n",
            "871    False\n",
            "872    False\n",
            "879    False\n",
            "887    False\n",
            "889    False\n",
            "Name: Age, Length: 204, dtype: bool\n",
            "\n",
            "Total NaN count in column: 0\n"
          ]
        }
      ]
    },
    {
      "cell_type": "code",
      "source": [
        "import pandas as pd\n",
        "import numpy as np\n",
        "\n",
        "\n",
        "# Choose the column for which you want to check NaN values\n",
        "selected_column = 'Embarked'\n",
        "\n",
        "# Check for NaN values in the selected column\n",
        "nan_values_in_column = df[selected_column].isna()\n",
        "\n",
        "# Count the number of NaN values in the selected column\n",
        "nan_count_in_column = df[selected_column].isna().sum()\n",
        "\n",
        "print(f\"NaN values in column '{selected_column}':\")\n",
        "print(nan_values_in_column)\n",
        "print(\"\\nTotal NaN count in column:\", nan_count_in_column)\n"
      ],
      "metadata": {
        "colab": {
          "base_uri": "https://localhost:8080/"
        },
        "id": "IBe0acN-qelA",
        "outputId": "a0dbe6e4-4cd6-4263-d81c-e481fa66f22e"
      },
      "execution_count": 60,
      "outputs": [
        {
          "output_type": "stream",
          "name": "stdout",
          "text": [
            "NaN values in column 'Embarked':\n",
            "1      False\n",
            "3      False\n",
            "6      False\n",
            "10     False\n",
            "11     False\n",
            "       ...  \n",
            "871    False\n",
            "872    False\n",
            "879    False\n",
            "887    False\n",
            "889    False\n",
            "Name: Embarked, Length: 204, dtype: bool\n",
            "\n",
            "Total NaN count in column: 2\n"
          ]
        }
      ]
    },
    {
      "cell_type": "code",
      "source": [
        "import pandas as pd\n",
        "\n",
        "\n",
        "# Remove rows with NaN values in the 'Name' column\n",
        "df.dropna(subset=['Embarked'], inplace=True)\n",
        "\n"
      ],
      "metadata": {
        "id": "g7sCesvNqpty"
      },
      "execution_count": 61,
      "outputs": []
    },
    {
      "cell_type": "code",
      "source": [
        "import pandas as pd\n",
        "import numpy as np\n",
        "\n",
        "\n",
        "# Choose the column for which you want to check NaN values\n",
        "selected_column = 'Embarked'\n",
        "\n",
        "# Check for NaN values in the selected column\n",
        "nan_values_in_column = df[selected_column].isna()\n",
        "\n",
        "# Count the number of NaN values in the selected column\n",
        "nan_count_in_column = df[selected_column].isna().sum()\n",
        "\n",
        "print(f\"NaN values in column '{selected_column}':\")\n",
        "print(nan_values_in_column)\n",
        "print(\"\\nTotal NaN count in column:\", nan_count_in_column)"
      ],
      "metadata": {
        "colab": {
          "base_uri": "https://localhost:8080/"
        },
        "id": "A-ww3c0JqtFW",
        "outputId": "6585f930-25b2-40e2-f178-abf0f22ba128"
      },
      "execution_count": 62,
      "outputs": [
        {
          "output_type": "stream",
          "name": "stdout",
          "text": [
            "NaN values in column 'Embarked':\n",
            "1      False\n",
            "3      False\n",
            "6      False\n",
            "10     False\n",
            "11     False\n",
            "       ...  \n",
            "871    False\n",
            "872    False\n",
            "879    False\n",
            "887    False\n",
            "889    False\n",
            "Name: Embarked, Length: 202, dtype: bool\n",
            "\n",
            "Total NaN count in column: 0\n"
          ]
        }
      ]
    },
    {
      "cell_type": "code",
      "source": [
        "import pandas as pd\n",
        "\n",
        "\n",
        "\n",
        "# Check for missing values in all columns\n",
        "missing_values = df.isnull().sum()\n",
        "\n",
        "# Display the result\n",
        "print(\"Missing values in each column:\")\n",
        "print(missing_values)"
      ],
      "metadata": {
        "colab": {
          "base_uri": "https://localhost:8080/"
        },
        "id": "TY7aOKi8qwsX",
        "outputId": "fc94cbed-9aee-4cdf-9fd7-d099e2b8acd9"
      },
      "execution_count": 63,
      "outputs": [
        {
          "output_type": "stream",
          "name": "stdout",
          "text": [
            "Missing values in each column:\n",
            "PassengerId    0\n",
            "Survived       0\n",
            "Pclass         0\n",
            "Name           0\n",
            "Sex            0\n",
            "Age            0\n",
            "SibSp          0\n",
            "Parch          0\n",
            "Ticket         0\n",
            "Fare           0\n",
            "Cabin          0\n",
            "Embarked       0\n",
            "dtype: int64\n"
          ]
        }
      ]
    },
    {
      "cell_type": "code",
      "source": [
        "import pandas as pd\n",
        "\n",
        "\n",
        "# Get the data types of all columns\n",
        "data_types = df.dtypes\n",
        "\n",
        "# Display the results\n",
        "print(\"Data types of all columns:\")\n",
        "print(data_types)\n"
      ],
      "metadata": {
        "colab": {
          "base_uri": "https://localhost:8080/"
        },
        "id": "Nb34dzlZrVAQ",
        "outputId": "a0deebe5-5868-4bfd-8873-264a51428161"
      },
      "execution_count": 64,
      "outputs": [
        {
          "output_type": "stream",
          "name": "stdout",
          "text": [
            "Data types of all columns:\n",
            "PassengerId      int64\n",
            "Survived         int64\n",
            "Pclass           int64\n",
            "Name            object\n",
            "Sex             object\n",
            "Age            float64\n",
            "SibSp            int64\n",
            "Parch            int64\n",
            "Ticket          object\n",
            "Fare           float64\n",
            "Cabin           object\n",
            "Embarked        object\n",
            "dtype: object\n"
          ]
        }
      ]
    },
    {
      "cell_type": "code",
      "source": [
        "import pandas as pd\n",
        "\n",
        "\n",
        "\n",
        "# Get unique values and their counts in the 'Category' column\n",
        "value_counts = df['Survived'].value_counts()\n",
        "\n",
        "# Display the unique values and their counts\n",
        "print(\"Unique values and their counts in the 'Survived' column:\")\n",
        "print(value_counts)"
      ],
      "metadata": {
        "colab": {
          "base_uri": "https://localhost:8080/"
        },
        "id": "t3l66e1GrvSU",
        "outputId": "a00af2f7-5380-48c8-a5d4-adb65e486a06"
      },
      "execution_count": 65,
      "outputs": [
        {
          "output_type": "stream",
          "name": "stdout",
          "text": [
            "Unique values and their counts in the 'Survived' column:\n",
            "1    134\n",
            "0     68\n",
            "Name: Survived, dtype: int64\n"
          ]
        }
      ]
    },
    {
      "cell_type": "markdown",
      "source": [
        "**Data Visualization**"
      ],
      "metadata": {
        "id": "wZhQ-uzpsIti"
      }
    },
    {
      "cell_type": "code",
      "source": [
        "import pandas as pd\n",
        "import seaborn as sns\n",
        "import matplotlib.pyplot as plt\n",
        "\n",
        "\n",
        "# Get unique values and their counts in the 'Category' column\n",
        "value_counts = df['Survived'].value_counts()\n",
        "\n",
        "# Plot a bar chart\n",
        "plt.figure(figsize=(8, 5))\n",
        "sns.barplot(x=value_counts.index, y=value_counts.values, palette=\"viridis\")\n",
        "plt.title(\"Unique Values and Their Counts in 'Survived' Column\")\n",
        "plt.xlabel(\"Passengers Survived\")\n",
        "plt.ylabel(\"Count\")\n",
        "plt.show()\n"
      ],
      "metadata": {
        "colab": {
          "base_uri": "https://localhost:8080/",
          "height": 572
        },
        "id": "9sI1CViAsKk5",
        "outputId": "9154a527-3050-411d-a7f6-672db06e7674"
      },
      "execution_count": 66,
      "outputs": [
        {
          "output_type": "stream",
          "name": "stderr",
          "text": [
            "<ipython-input-66-76a0619993b6>:11: FutureWarning: \n",
            "\n",
            "Passing `palette` without assigning `hue` is deprecated and will be removed in v0.14.0. Assign the `x` variable to `hue` and set `legend=False` for the same effect.\n",
            "\n",
            "  sns.barplot(x=value_counts.index, y=value_counts.values, palette=\"viridis\")\n"
          ]
        },
        {
          "output_type": "display_data",
          "data": {
            "text/plain": [
              "<Figure size 800x500 with 1 Axes>"
            ],
            "image/png": "[encoded data removed]"
          },
          "metadata": {}
        }
      ]
    },
    {
      "cell_type": "code",
      "source": [
        "import pandas as pd\n",
        "import seaborn as sns\n",
        "import matplotlib.pyplot as plt\n",
        "\n",
        "\n",
        "\n",
        "# Plot a count plot\n",
        "plt.figure(figsize=(8, 5))\n",
        "sns.countplot(x='Survived', hue='Sex', data=df, palette=\"Set1\")\n",
        "plt.title(\"Survival Count by Sex\")\n",
        "plt.xlabel(\"Survived (0 = No, 1 = Yes)\")\n",
        "plt.ylabel(\"Count\")\n",
        "plt.show()\n"
      ],
      "metadata": {
        "colab": {
          "base_uri": "https://localhost:8080/",
          "height": 485
        },
        "id": "ibWz17iwsWKY",
        "outputId": "a32dc8be-0157-4873-acd6-6c9b5c93d3dc"
      },
      "execution_count": 67,
      "outputs": [
        {
          "output_type": "display_data",
          "data": {
            "text/plain": [
              "<Figure size 800x500 with 1 Axes>"
            ],
            "image/png": "[encoded data removed]"
          },
          "metadata": {}
        }
      ]
    },
    {
      "cell_type": "code",
      "source": [
        "import pandas as pd\n",
        "import seaborn as sns\n",
        "import matplotlib.pyplot as plt\n",
        "\n",
        "\n",
        "\n",
        "# Filter the DataFrame to include only passengers who survived\n",
        "survived_data = df[df['Survived'] == 1]\n",
        "\n",
        "# Plot a histogram\n",
        "plt.figure(figsize=(8, 5))\n",
        "sns.histplot(data=survived_data, x='Age', bins=10, kde=True, color='skyblue')\n",
        "plt.title(\"Age Distribution of Survived Passengers\")\n",
        "plt.xlabel(\"Age\")\n",
        "plt.ylabel(\"Count\")\n",
        "plt.show()\n"
      ],
      "metadata": {
        "colab": {
          "base_uri": "https://localhost:8080/",
          "height": 485
        },
        "id": "MJg_Wvhxsn1r",
        "outputId": "24be6ea4-9771-4cbf-9353-d9973388edfd"
      },
      "execution_count": 68,
      "outputs": [
        {
          "output_type": "display_data",
          "data": {
            "text/plain": [
              "<Figure size 800x500 with 1 Axes>"
            ],
            "image/png": "[encoded data removed]"
          },
          "metadata": {}
        }
      ]
    },
    {
      "cell_type": "code",
      "source": [
        "import pandas as pd\n",
        "import seaborn as sns\n",
        "import matplotlib.pyplot as plt\n",
        "\n",
        "\n",
        "# Check the column names in your dataset\n",
        "print(df.columns)\n",
        "\n",
        "# Plot a count plot\n",
        "plt.figure(figsize=(8, 5))\n",
        "sns.countplot(x='Survived', hue='Embarked', data=df, palette=\"Set2\")\n",
        "plt.title(\"Survival Count by Embarkation Point\")\n",
        "plt.xlabel(\"Survived (0 = No, 1 = Yes)\")\n",
        "plt.ylabel(\"Count\")\n",
        "plt.legend(title=\"Embarked\", loc=\"upper right\")\n",
        "plt.show()\n"
      ],
      "metadata": {
        "colab": {
          "base_uri": "https://localhost:8080/",
          "height": 537
        },
        "id": "u9M0uLGus3Yf",
        "outputId": "8d6f4f7b-7014-4ac3-e141-44194a3e7d10"
      },
      "execution_count": 69,
      "outputs": [
        {
          "output_type": "stream",
          "name": "stdout",
          "text": [
            "Index(['PassengerId', 'Survived', 'Pclass', 'Name', 'Sex', 'Age', 'SibSp',\n",
            "       'Parch', 'Ticket', 'Fare', 'Cabin', 'Embarked'],\n",
            "      dtype='object')\n"
          ]
        },
        {
          "output_type": "display_data",
          "data": {
            "text/plain": [
              "<Figure size 800x500 with 1 Axes>"
            ],
            "image/png": "[encoded data removed]"
          },
          "metadata": {}
        }
      ]
    },
    {
      "cell_type": "markdown",
      "source": [
        "most of the survived passengers boarded from Southampton"
      ],
      "metadata": {
        "id": "FiA6wydKAxbH"
      }
    },
    {
      "cell_type": "code",
      "source": [
        "import pandas as pd\n",
        "import seaborn as sns\n",
        "import matplotlib.pyplot as plt\n",
        "\n",
        "\n",
        "\n",
        "# Plot a count plot\n",
        "plt.figure(figsize=(8, 5))\n",
        "sns.countplot(x='Survived', hue='Parch', data=df, palette=\"viridis\")\n",
        "plt.title(\"Survival Count by Number of Parents/Children (Parch)\")\n",
        "plt.xlabel(\"Survived (0 = No, 1 = Yes)\")\n",
        "plt.ylabel(\"Count\")\n",
        "plt.legend(title=\"Parch\", loc=\"upper right\")\n",
        "plt.show()\n"
      ],
      "metadata": {
        "colab": {
          "base_uri": "https://localhost:8080/",
          "height": 485
        },
        "id": "-RKVVqR5BhJJ",
        "outputId": "eb60699f-429b-4bfe-82a7-4208bb5dcaeb"
      },
      "execution_count": 70,
      "outputs": [
        {
          "output_type": "display_data",
          "data": {
            "text/plain": [
              "<Figure size 800x500 with 1 Axes>"
            ],
            "image/png": "[encoded data removed]"
          },
          "metadata": {}
        }
      ]
    },
    {
      "cell_type": "markdown",
      "source": [
        "**Data Pre-processing**"
      ],
      "metadata": {
        "id": "dV9G1jV0Cbjk"
      }
    },
    {
      "cell_type": "code",
      "source": [
        "import pandas as pd\n",
        "\n",
        "\n",
        "\n",
        "# Calculate the correlation matrix\n",
        "correlation_matrix = df.corr()\n",
        "\n",
        "# Get the correlation of all columns with 'Survived'\n",
        "correlation_with_survived = correlation_matrix['Survived']\n",
        "\n",
        "# Display the correlation matrix and correlation with 'Survived'\n",
        "print(\"Correlation Matrix:\")\n",
        "print(correlation_matrix)\n",
        "\n",
        "print(\"\\nCorrelation with 'Survived':\")\n",
        "print(correlation_with_survived)\n"
      ],
      "metadata": {
        "colab": {
          "base_uri": "https://localhost:8080/"
        },
        "id": "vVzdrgtZCZiE",
        "outputId": "20f53ed7-a1a1-4a8b-e110-e165a9b49beb"
      },
      "execution_count": 71,
      "outputs": [
        {
          "output_type": "stream",
          "name": "stdout",
          "text": [
            "Correlation Matrix:\n",
            "             PassengerId  Survived    Pclass       Age     SibSp     Parch  \\\n",
            "PassengerId     1.000000  0.111985 -0.084147  0.029127 -0.081137 -0.064538   \n",
            "Survived        0.111985  1.000000 -0.030513 -0.240417  0.138202  0.042456   \n",
            "Pclass         -0.084147 -0.030513  1.000000 -0.284356 -0.086972  0.056288   \n",
            "Age             0.029127 -0.240417 -0.284356  1.000000 -0.152103 -0.266450   \n",
            "SibSp          -0.081137  0.138202 -0.086972 -0.152103  1.000000  0.262348   \n",
            "Parch          -0.064538  0.042456  0.056288 -0.266450  0.262348  1.000000   \n",
            "Fare            0.017465  0.128261 -0.311740 -0.090142  0.291777  0.384970   \n",
            "\n",
            "                 Fare  \n",
            "PassengerId  0.017465  \n",
            "Survived     0.128261  \n",
            "Pclass      -0.311740  \n",
            "Age         -0.090142  \n",
            "SibSp        0.291777  \n",
            "Parch        0.384970  \n",
            "Fare         1.000000  \n",
            "\n",
            "Correlation with 'Survived':\n",
            "PassengerId    0.111985\n",
            "Survived       1.000000\n",
            "Pclass        -0.030513\n",
            "Age           -0.240417\n",
            "SibSp          0.138202\n",
            "Parch          0.042456\n",
            "Fare           0.128261\n",
            "Name: Survived, dtype: float64\n"
          ]
        },
        {
          "output_type": "stream",
          "name": "stderr",
          "text": [
            "<ipython-input-71-afc19d8d8b69>:6: FutureWarning: The default value of numeric_only in DataFrame.corr is deprecated. In a future version, it will default to False. Select only valid columns or specify the value of numeric_only to silence this warning.\n",
            "  correlation_matrix = df.corr()\n"
          ]
        }
      ]
    },
    {
      "cell_type": "code",
      "source": [
        "print(df.columns)"
      ],
      "metadata": {
        "colab": {
          "base_uri": "https://localhost:8080/"
        },
        "id": "1-ngKUM7EI5R",
        "outputId": "394b1b29-4f4c-46f7-e524-4c251e4228b9"
      },
      "execution_count": 72,
      "outputs": [
        {
          "output_type": "stream",
          "name": "stdout",
          "text": [
            "Index(['PassengerId', 'Survived', 'Pclass', 'Name', 'Sex', 'Age', 'SibSp',\n",
            "       'Parch', 'Ticket', 'Fare', 'Cabin', 'Embarked'],\n",
            "      dtype='object')\n"
          ]
        }
      ]
    },
    {
      "cell_type": "code",
      "source": [
        "import pandas as pd\n",
        "\n",
        "\n",
        "# Drop specific columns\n",
        "columns_to_drop = ['Name', 'Pclass','Age','Cabin','PassengerId','Ticket']\n",
        "df = df.drop(columns=columns_to_drop)\n",
        "\n",
        "# Display the DataFrame after dropping columns\n",
        "print(\"DataFrame after dropping columns:\")\n",
        "print(df)\n"
      ],
      "metadata": {
        "colab": {
          "base_uri": "https://localhost:8080/"
        },
        "id": "c_dQZpOoDX4Q",
        "outputId": "303ac6f5-c8a0-481f-cff1-169c688ef728"
      },
      "execution_count": 73,
      "outputs": [
        {
          "output_type": "stream",
          "name": "stdout",
          "text": [
            "DataFrame after dropping columns:\n",
            "     Survived     Sex  SibSp  Parch     Fare Embarked\n",
            "1           1  female      1      0  71.2833        C\n",
            "3           1  female      1      0  53.1000        S\n",
            "6           0    male      0      0  51.8625        S\n",
            "10          1  female      1      1  16.7000        S\n",
            "11          1  female      0      0  26.5500        S\n",
            "..        ...     ...    ...    ...      ...      ...\n",
            "871         1  female      1      1  52.5542        S\n",
            "872         0    male      0      0   5.0000        S\n",
            "879         1  female      0      1  83.1583        C\n",
            "887         1  female      0      0  30.0000        S\n",
            "889         1    male      0      0  30.0000        C\n",
            "\n",
            "[202 rows x 6 columns]\n"
          ]
        }
      ]
    },
    {
      "cell_type": "code",
      "source": [
        "print(df.columns)"
      ],
      "metadata": {
        "colab": {
          "base_uri": "https://localhost:8080/"
        },
        "id": "G6ngOTv_D4uX",
        "outputId": "dfb1e85c-056a-4a07-b2e6-3b34ec09f666"
      },
      "execution_count": 74,
      "outputs": [
        {
          "output_type": "stream",
          "name": "stdout",
          "text": [
            "Index(['Survived', 'Sex', 'SibSp', 'Parch', 'Fare', 'Embarked'], dtype='object')\n"
          ]
        }
      ]
    },
    {
      "cell_type": "code",
      "source": [
        "import pandas as pd\n",
        "\n",
        "# Assuming 'df' is your DataFrame\n",
        "# If 'df' is not defined, replace it with the actual variable name of your DataFrame\n",
        "\n",
        "# Select only columns with data type 'object'\n",
        "categorical_columns = df.select_dtypes(include=['object']).columns\n",
        "\n",
        "# Display the list of categorical columns\n",
        "print(\"Categorical Columns:\")\n",
        "print(categorical_columns)\n"
      ],
      "metadata": {
        "colab": {
          "base_uri": "https://localhost:8080/"
        },
        "id": "Us4jtiQTFT_1",
        "outputId": "f9eb12a1-4a2c-4ecf-ec22-6dfd6078e330"
      },
      "execution_count": 75,
      "outputs": [
        {
          "output_type": "stream",
          "name": "stdout",
          "text": [
            "Categorical Columns:\n",
            "Index(['Sex', 'Embarked'], dtype='object')\n"
          ]
        }
      ]
    },
    {
      "cell_type": "code",
      "source": [
        "#one hot encoding for all the categorical columns\n",
        "\n",
        "categorical_columns = ['Sex', 'Embarked']\n",
        "df_encode = pd.get_dummies(data=df,\n",
        "                           columns=categorical_columns,\n",
        "                           drop_first=True,\n",
        "                           dtype='int8')\n",
        "\n",
        "# Let's have a look at the difference in data before/after encoding\n",
        "print('Columns in original data frame:\\n',df.columns.values)\n",
        "print('\\nNumber of rows and columns in the dataset:',df.shape)\n",
        "print('\\nColumns in data frame after encoding dummy variable:\\n',df_encode.columns.values)\n",
        "print('\\nNumber of rows and columns in the dataset:',df_encode.shape)"
      ],
      "metadata": {
        "colab": {
          "base_uri": "https://localhost:8080/"
        },
        "id": "WltB1MCyFYSi",
        "outputId": "1bdcec19-7714-49d4-cfef-a62dca1113a7"
      },
      "execution_count": 76,
      "outputs": [
        {
          "output_type": "stream",
          "name": "stdout",
          "text": [
            "Columns in original data frame:\n",
            " ['Survived' 'Sex' 'SibSp' 'Parch' 'Fare' 'Embarked']\n",
            "\n",
            "Number of rows and columns in the dataset: (202, 6)\n",
            "\n",
            "Columns in data frame after encoding dummy variable:\n",
            " ['Survived' 'SibSp' 'Parch' 'Fare' 'Sex_male' 'Embarked_Q' 'Embarked_S']\n",
            "\n",
            "Number of rows and columns in the dataset: (202, 7)\n"
          ]
        }
      ]
    },
    {
      "cell_type": "code",
      "source": [
        "import pandas as pd\n",
        "\n",
        "# Assuming 'df' is your DataFrame\n",
        "# If 'df' is not defined, replace it with the actual variable name of your DataFrame\n",
        "\n",
        "# Select only numeric columns\n",
        "numerical_columns = df.select_dtypes(include=['int64', 'float64']).columns\n",
        "\n",
        "# Display the list of numerical columns\n",
        "print(\"Numerical Columns:\")\n",
        "print(numerical_columns)"
      ],
      "metadata": {
        "colab": {
          "base_uri": "https://localhost:8080/"
        },
        "id": "KxDOyHqeFb1z",
        "outputId": "da077e2d-8dc8-4e25-b59b-f4bbecb17083"
      },
      "execution_count": 77,
      "outputs": [
        {
          "output_type": "stream",
          "name": "stdout",
          "text": [
            "Numerical Columns:\n",
            "Index(['Survived', 'SibSp', 'Parch', 'Fare'], dtype='object')\n"
          ]
        }
      ]
    },
    {
      "cell_type": "code",
      "source": [
        "import pandas as pd\n",
        "from sklearn.preprocessing import MinMaxScaler\n",
        "\n",
        "# Assuming 'df' is your DataFrame\n",
        "# If 'df' is not defined, replace it with the actual variable name of your DataFrame\n",
        "\n",
        "# List of numerical columns to be normalized\n",
        "numerical_columns_to_normalize = [ 'Survived', 'SibSp', 'Parch', 'Fare']\n",
        "\n",
        "# Create a MinMaxScaler\n",
        "scaler = MinMaxScaler()\n",
        "\n",
        "# Apply Min-Max Scaling to the specified columns\n",
        "df[numerical_columns_to_normalize] = scaler.fit_transform(df[numerical_columns_to_normalize])\n",
        "\n",
        "# Display the DataFrame with normalized numerical columns\n",
        "print(df.head())\n"
      ],
      "metadata": {
        "colab": {
          "base_uri": "https://localhost:8080/"
        },
        "id": "MXepbEzGFfRp",
        "outputId": "cf3b4cd1-6904-4327-e27e-b5835d05df6c"
      },
      "execution_count": 78,
      "outputs": [
        {
          "output_type": "stream",
          "name": "stdout",
          "text": [
            "    Survived     Sex     SibSp  Parch      Fare Embarked\n",
            "1        1.0  female  0.333333   0.00  0.139136        C\n",
            "3        1.0  female  0.333333   0.00  0.103644        S\n",
            "6        0.0    male  0.000000   0.00  0.101229        S\n",
            "10       1.0  female  0.333333   0.25  0.032596        S\n",
            "11       1.0  female  0.000000   0.00  0.051822        S\n"
          ]
        }
      ]
    },
    {
      "cell_type": "code",
      "source": [
        "import pandas as pd\n",
        "\n",
        "# Assuming 'df' is your DataFrame\n",
        "# If 'df' is not defined, replace it with the actual variable name of your DataFrame\n",
        "\n",
        "# Display data types of all columns\n",
        "data_types = df.dtypes\n",
        "print(\"Data Types of Columns:\")\n",
        "print(data_types)\n"
      ],
      "metadata": {
        "colab": {
          "base_uri": "https://localhost:8080/"
        },
        "id": "3GUO3Pt9Gt6q",
        "outputId": "c729f945-a482-4238-a8f6-53bfdc443e50"
      },
      "execution_count": 79,
      "outputs": [
        {
          "output_type": "stream",
          "name": "stdout",
          "text": [
            "Data Types of Columns:\n",
            "Survived    float64\n",
            "Sex          object\n",
            "SibSp       float64\n",
            "Parch       float64\n",
            "Fare        float64\n",
            "Embarked     object\n",
            "dtype: object\n"
          ]
        }
      ]
    },
    {
      "cell_type": "markdown",
      "source": [
        "**Modelling**"
      ],
      "metadata": {
        "id": "RF9kNPLhFspr"
      }
    },
    {
      "cell_type": "code",
      "source": [
        "import pandas as pd\n",
        "from sklearn.model_selection import train_test_split\n",
        "from sklearn.tree import DecisionTreeClassifier\n",
        "from sklearn.metrics import accuracy_score, classification_report\n",
        "\n",
        "\n",
        "# Perform one-hot encoding for 'Sex' column\n",
        "df_encoded = pd.get_dummies(df, columns=['Sex'], prefix='Sex')\n",
        "\n"
      ],
      "metadata": {
        "id": "8LQwKfJiFmVE"
      },
      "execution_count": 80,
      "outputs": []
    },
    {
      "cell_type": "code",
      "source": [
        "import pandas as pd\n",
        "\n",
        "# Assuming 'df' is your DataFrame\n",
        "# If 'df' is not defined, replace it with the actual variable name of your DataFrame\n",
        "\n",
        "# Display data types of all columns\n",
        "data_types = df.dtypes\n",
        "print(\"Data Types of Columns:\")\n",
        "print(data_types)"
      ],
      "metadata": {
        "colab": {
          "base_uri": "https://localhost:8080/"
        },
        "id": "ZBvPYeBF7QIx",
        "outputId": "c5273b2b-8260-45b0-947e-36c1378e53bc"
      },
      "execution_count": 81,
      "outputs": [
        {
          "output_type": "stream",
          "name": "stdout",
          "text": [
            "Data Types of Columns:\n",
            "Survived    float64\n",
            "Sex          object\n",
            "SibSp       float64\n",
            "Parch       float64\n",
            "Fare        float64\n",
            "Embarked     object\n",
            "dtype: object\n"
          ]
        }
      ]
    },
    {
      "cell_type": "code",
      "source": [
        "import pandas as pd\n",
        "from sklearn.model_selection import train_test_split\n",
        "from sklearn.linear_model import LogisticRegression\n",
        "from sklearn.metrics import accuracy_score, classification_report\n",
        "\n",
        "\n",
        "\n",
        "# Perform one-hot encoding for 'Sex' column\n",
        "df_encoded = pd.get_dummies(df, columns=['Sex', 'Embarked'], prefix=['Sex', 'Embarked'])\n",
        "# Define X and y\n",
        "X = df_encoded.drop('Survived', axis=1)  # Features (excluding 'Survived' column)\n",
        "y = df_encoded['Survived']  # Target variable\n",
        "\n",
        "# Split the data into training and testing sets\n",
        "X_train, X_test, y_train, y_test = train_test_split(X, y, test_size=0.2, random_state=42)\n",
        "\n",
        "# Initialize the logistic regression model\n",
        "model = LogisticRegression(random_state=42)\n",
        "\n",
        "# Train the model on the training data\n",
        "model.fit(X_train, y_train)\n",
        "\n",
        "# Make predictions on the test data\n",
        "predictions = model.predict(X_test)\n",
        "\n",
        "# Evaluate the model\n",
        "accuracy = accuracy_score(y_test, predictions)\n",
        "print(f\"Accuracy: {accuracy:.2f}\")\n",
        "\n",
        "# Display classification report with zero_division parameter\n",
        "print(\"Classification Report:\")\n",
        "print(classification_report(y_test, predictions, zero_division=1))\n",
        "\n",
        "\n",
        "\n",
        "\n",
        "\n",
        "\n"
      ],
      "metadata": {
        "colab": {
          "base_uri": "https://localhost:8080/"
        },
        "id": "bMmpz0wdI8VK",
        "outputId": "774c9855-3d3b-4cca-85d2-1a8857b10448"
      },
      "execution_count": 82,
      "outputs": [
        {
          "output_type": "stream",
          "name": "stdout",
          "text": [
            "Accuracy: 0.78\n",
            "Classification Report:\n",
            "              precision    recall  f1-score   support\n",
            "\n",
            "         0.0       0.47      1.00      0.64         8\n",
            "         1.0       1.00      0.73      0.84        33\n",
            "\n",
            "    accuracy                           0.78        41\n",
            "   macro avg       0.74      0.86      0.74        41\n",
            "weighted avg       0.90      0.78      0.80        41\n",
            "\n"
          ]
        }
      ]
    }
  ]
}